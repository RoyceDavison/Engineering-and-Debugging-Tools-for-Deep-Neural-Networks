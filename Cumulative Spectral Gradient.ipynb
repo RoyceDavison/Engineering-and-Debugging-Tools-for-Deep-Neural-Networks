{
  "nbformat": 4,
  "nbformat_minor": 0,
  "metadata": {
    "colab": {
      "name": "dataset_capacity_estimators.ipynb",
      "provenance": [],
      "collapsed_sections": [
        "B_U5QvdjfLK_"
      ],
      "toc_visible": true
    },
    "kernelspec": {
      "name": "python3",
      "display_name": "Python 3"
    }
  },
  "cells": [
    {
      "cell_type": "markdown",
      "metadata": {
        "id": "Tx4bb6gO_RuV",
        "colab_type": "text"
      },
      "source": [
        "# Cumulative Spectral Gradient(CSG)\n",
        "\"Spectral Metric for Dataset Complexity Assessment\" by Fre ́de ́ric Branchaud-Charron, Andrew Achkar, Pierre-Marc Jodoin\n",
        "\n",
        "\n",
        "---\n",
        "\n",
        "\n",
        "The goal of a complexity measure is to gauge the complexity of image classification problems.\n",
        "\n",
        "\n",
        "---\n",
        "\n",
        "\n",
        "The CSG measure is derived from the **probabilistic divergence** between classes in a clustering framework. \n",
        "1.   correlates with the overall separability of the dataset and thus its inherent complexity. \n",
        "\n",
        "2.   dataset reduction, to assess which classes are more difficult to disentangle, and approximate the accuracy one could expect to get with a CNN.\n",
        "\n",
        "\n",
        "---\n",
        "### Algorithms\n",
        "\n",
        "1.   Project the input image onto a lower dimensional space. \n",
        "\n",
        "  *   extract more useful and meaningful features for CNNs learning\n",
        "\n",
        "\n",
        "2.   Create interclass similarity matrix by estimating pairwise class overlap with a Monte-Carlo method.\n",
        "  *   the matric embodies the overall complexity of a dataset by means of class overlap\n",
        "\n",
        "\n",
        "3.   Following the spectral clustering theory, we compute a K × K Laplacian matrix where K is the number of classes. \n",
        "\n",
        "4.  Finally, the spectrum of this matrix is used to derived our cumulative spectral gradient (CSG) c-measure.\n",
        "   * The matrix is symmetric and contains n eigenvalues {λ0 , ..., λn−1} that are real and non negative with λ0 = 0 and λi+1 ≥ λi.\n",
        "   * This set of eigenvalues is called the **spectrum** of the matrix. \n",
        "\n",
        "5. CSG score is the cumulative maximum(cummax) of the normalized eigengaps.\n",
        "\n",
        "![normalized eigngap](https://drive.google.com/uc?id=13qJMVfm8E6mPdwrZ4_SGO8E_-sRbzUUb)\n",
        "\n",
        "![cummax](https://drive.google.com/uc?id=1yaKkugL6XudDh9jMICjDKiXYXJ4ygROv)\n",
        "\n",
        "---\n",
        "\n",
        "\n",
        "The main advantages of our proposed c-measure are as follows:\n",
        "\n",
        "> 1. It naturally scales with the number of classes and the number of images in the dataset;\n",
        "\n",
        "> 2. Our metric is fast to compute and does not require the computation of prohibitively large matrices;\n",
        "\n",
        "> 3. It has no prior assumption on the distribution of the data;\n",
        "\n",
        "> 4. It gives a strong insight on which classes are easily separable and those that are entangled;\n",
        "\n",
        "> 5. The metric is highly correlated with CNN general- ization capabilities;\n",
        "\n",
        "> 6. It can be easily used for dataset reduction.\n",
        "\n",
        "### Previous Works\n",
        "While some c-measures assume that classes are linearly separable in their original feature space [18], others work only for two-class problems [2, 3, 19]. Also, some c-measures are prohibitively slow and memory ex- pensive as they require the analysis of matrices whose size is in the order to the number of training samples and/or the feature dimension size [3, 14].\n",
        "[7] process raw data.\n",
        "\n",
        "\n",
        "Ho and Basu are by far the most widely used [18]\n",
        "While the c-measures by Ho and Basu have been shown effective for small non-image datasets [7],  those met- rics are less suited to analyze large and complex image datasets. \n",
        "\n",
        "Although Ho and Basu’s metrics were designed for two-class problems, some researchers generalize it to more than two classes by averaging measures obtained between all possible pair of classes [37, 41].Also, al- though recent generalizations of the Ho-Basu c-measures have been proposed [2, 12, 41], none addresses explicitly the problem of classifying large image datasets.\n",
        "\n",
        "\n",
        "The authors used the Euclidean distance to measure the similarity between two images, a metric that does not generalize well to real-world images [43].\n",
        "\n",
        "Like we do, some methods build a graph from the dataset to characterize the intra and inter-class relationships [15, 34].\n",
        "\n",
        "To our knowledge, Li et al. [27] are the only ones who proposed a c-measure applied specifically to modern im- age datasets and deep neural networks. They called their measure the Intrinsic Dimension which is the minimum number of neurons a model needs to reach its best per- formances. They show that adding more neurons past the Intrinsic Dimension does not improve test accuracy. Unfortunately, as opposed to what we seek to do, their measure requires multiple training of image classification CNNs through a grid-search approach which is slow and tedious. More details on c-measures can be found in the recent survey paper by [28]."
      ]
    },
    {
      "cell_type": "markdown",
      "metadata": {
        "id": "drPXrcEEPaOk",
        "colab_type": "text"
      },
      "source": [
        "## Neural Network Embedding\n",
        "https://towardsdatascience.com/neural-network-embeddings-explained-4d028e6f0526\n",
        "\n",
        "**embedding**: a mapping of a discrete variable to a vector of continuous numbers. \n",
        "\n",
        "*   In the context of neural networks, embeddings are low-dimensional, learned continuous vector representations of discrete variables.\n",
        "*   Neural network embeddings are useful because they can **reduce the dimensionality** of categorical variables and **meaningfully represent categories** in the transformed space.\n",
        "\n",
        "Neural network embeddings have 3 primary purposes:\n",
        "\n",
        "1.   Finding nearest neighbors in the embedding space. These can be used to make recommendations based on user interests or cluster categories.\n",
        "\n",
        "2.   As input to a machine learning model for a supervised task.\n",
        "\n",
        "3.   For visualization of concepts and relations between categories.\n"
      ]
    },
    {
      "cell_type": "code",
      "metadata": {
        "id": "NNeLddRf-C__",
        "colab_type": "code",
        "colab": {
          "base_uri": "https://localhost:8080/",
          "height": 479
        },
        "outputId": "624a8617-7c74-492a-d26a-2a9614db6194"
      },
      "source": [
        "try:\n",
        "  # %tensorflow_version only exists in Colab.\n",
        "  %tensorflow_version 1.14\n",
        "except Exception:\n",
        "  pass\n",
        "\n",
        "from __future__ import absolute_import, division, print_function, unicode_literals\n",
        "\n",
        "import tensorflow as tf\n",
        "print(tf.__version__)\n",
        "import cv2\n",
        "import csv, math\n",
        "\n",
        "from tensorflow import keras\n",
        "from tensorflow.keras.layers import Dense, Flatten, Conv2D\n",
        "from tensorflow.keras import Model\n",
        "\n",
        "# Helper libraries\n",
        "import numpy as np\n",
        "import matplotlib.pyplot as plt\n",
        "#from sklearn.manifold import TSNE\n",
        "\n",
        "from keras.applications.imagenet_utils import preprocess_input\n",
        "from keras.layers import Input, Lambda\n",
        "from keras.applications import VGG19\n",
        "from keras.engine import Model\n",
        "\n",
        "import os\n",
        "import scipy as sp\n",
        "import scipy.stats\n",
        "from sklearn.metrics.pairwise import *\n",
        "from sklearn.neighbors import DistanceMetric\n",
        "from sklearn.preprocessing import quantile_transform\n",
        "\n",
        "from itertools import product\n",
        "from scipy.sparse.csgraph import laplacian\n",
        "\n",
        "import seaborn as sns\n",
        "from sklearn.datasets import make_moons, make_blobs, make_circles\n",
        "import math\n",
        "\n",
        "!pip install MulticoreTSNE\n",
        "from MulticoreTSNE import MulticoreTSNE as TSNE\n",
        "import time\n",
        "\n",
        "! pip install pandas\n",
        "import pandas as pd\n",
        "\n",
        "EMBEDDINGS = ['vgg', 'xception']"
      ],
      "execution_count": null,
      "outputs": [
        {
          "output_type": "stream",
          "text": [
            "`%tensorflow_version` only switches the major version: 1.x or 2.x.\n",
            "You set: `1.14`. This will be interpreted as: `1.x`.\n",
            "\n",
            "\n",
            "TensorFlow 1.x selected.\n",
            "1.15.2\n"
          ],
          "name": "stdout"
        },
        {
          "output_type": "stream",
          "text": [
            "Using TensorFlow backend.\n",
            "/usr/local/lib/python3.6/dist-packages/statsmodels/tools/_testing.py:19: FutureWarning: pandas.util.testing is deprecated. Use the functions in the public API at pandas.testing instead.\n",
            "  import pandas.util.testing as tm\n"
          ],
          "name": "stderr"
        },
        {
          "output_type": "stream",
          "text": [
            "Collecting MulticoreTSNE\n",
            "  Downloading https://files.pythonhosted.org/packages/2d/e8/2afa896fa4eebfa1d0d0ba2673fddac45582ec0f06b2bdda88108ced5425/MulticoreTSNE-0.1.tar.gz\n",
            "Requirement already satisfied: numpy in /usr/local/lib/python3.6/dist-packages (from MulticoreTSNE) (1.18.5)\n",
            "Requirement already satisfied: cffi in /usr/local/lib/python3.6/dist-packages (from MulticoreTSNE) (1.14.0)\n",
            "Requirement already satisfied: pycparser in /usr/local/lib/python3.6/dist-packages (from cffi->MulticoreTSNE) (2.20)\n",
            "Building wheels for collected packages: MulticoreTSNE\n",
            "  Building wheel for MulticoreTSNE (setup.py) ... \u001b[?25l\u001b[?25hdone\n",
            "  Created wheel for MulticoreTSNE: filename=MulticoreTSNE-0.1-cp36-cp36m-linux_x86_64.whl size=68502 sha256=86b919b90b5d47e26636cd1d8a5aa9f16f2266a537bf6fbdb5f06be5b93ac6fb\n",
            "  Stored in directory: /root/.cache/pip/wheels/27/59/53/3b52ee63add3692254c30d687fa4dff4d128d0557861fb028e\n",
            "Successfully built MulticoreTSNE\n",
            "Installing collected packages: MulticoreTSNE\n",
            "Successfully installed MulticoreTSNE-0.1\n",
            "Requirement already satisfied: pandas in /usr/local/lib/python3.6/dist-packages (1.0.4)\n",
            "Requirement already satisfied: numpy>=1.13.3 in /usr/local/lib/python3.6/dist-packages (from pandas) (1.18.5)\n",
            "Requirement already satisfied: python-dateutil>=2.6.1 in /usr/local/lib/python3.6/dist-packages (from pandas) (2.8.1)\n",
            "Requirement already satisfied: pytz>=2017.2 in /usr/local/lib/python3.6/dist-packages (from pandas) (2018.9)\n",
            "Requirement already satisfied: six>=1.5 in /usr/local/lib/python3.6/dist-packages (from python-dateutil>=2.6.1->pandas) (1.12.0)\n"
          ],
          "name": "stdout"
        }
      ]
    },
    {
      "cell_type": "code",
      "metadata": {
        "id": "X7dHqA4adHEd",
        "colab_type": "code",
        "colab": {}
      },
      "source": [
        "! unzip seefood.zip\n",
        "#! unzip INRIAPerson.zip"
      ],
      "execution_count": null,
      "outputs": []
    },
    {
      "cell_type": "markdown",
      "metadata": {
        "id": "3rjwZtW-R4Kb",
        "colab_type": "text"
      },
      "source": [
        "## Different Embedding' Methods\n",
        "The input images x are projected to an embedding space with a function φ(x).\n",
        "\n",
        "TSNE: t-distributed Stochastic Neighbor Embedding.\n",
        "\n",
        "isomap: Non-linear dimensionality reduction through Isometric Mapping"
      ]
    },
    {
      "cell_type": "code",
      "metadata": {
        "id": "X5oZ_xAWQ8d-",
        "colab_type": "code",
        "colab": {}
      },
      "source": [
        "#TSNE\n",
        "def tsne_inner(x_train):\n",
        "    data = x_train.reshape([x_train.shape[0], -1])\n",
        "    data = data / data.max()\n",
        "    #Y = TSNE(n_components=3, perplexity=30, random_state=0, n_jobs= -1).fit_transform(data)\n",
        "    tsne = TSNE(n_components=3, random_state=0, verbose=1, n_jobs=-1, n_iter=10000)\n",
        "    Y = tsne.fit_transform(data)\n",
        "    return Y\n",
        "\n",
        "class TSNEEmbedding():\n",
        "    \"\"\"Get t-SNE embedding\"\"\"\n",
        "\n",
        "    def get_embedding(self, dat):\n",
        "        return tsne_inner(dat)\n",
        "\n",
        "    @classmethod\n",
        "    def get_embedding_name(cls):\n",
        "        return 'tsne'\n",
        "\n",
        "#t = TSNEEmbedding()\n",
        "#pred = t.get_embedding(x_train)\n",
        "#pred.shape"
      ],
      "execution_count": null,
      "outputs": []
    },
    {
      "cell_type": "code",
      "metadata": {
        "id": "Dz-91Jd1bhpt",
        "colab_type": "code",
        "colab": {}
      },
      "source": [
        "def make_isomap(class_samples, data, isomap):\n",
        "    \"\"\"\n",
        "    Make Isomap if enabled\n",
        "    Args:\n",
        "        class_samples: ndarray [C, M_sample, ?]\n",
        "        data: Dataset input\n",
        "        isomap: Whether to use Isomap or not\n",
        "    Returns:\n",
        "        (transformed class samples, transformed data)\n",
        "    \"\"\"\n",
        "\n",
        "    log(\"Isomap\", end='')\n",
        "    obj = Isomap(n_components=isomap, n_neighbors=120, n_jobs=4)\n",
        "    k1, k2, _ = class_samples.shape\n",
        "    class_samples = obj.fit_transform(class_samples.reshape([-1, data.shape[-1]])).reshape([k1, k2, isomap])\n",
        "    data = obj.transform(data)\n",
        "    log('Done!')\n",
        "    return class_samples, data"
      ],
      "execution_count": null,
      "outputs": []
    },
    {
      "cell_type": "code",
      "metadata": {
        "id": "fQqJCUxncpzw",
        "colab_type": "code",
        "colab": {}
      },
      "source": [
        "class VGGFeatures():\n",
        "    def __init__(self):\n",
        "        self.built = False\n",
        "\n",
        "    def __exit__(self):\n",
        "        self.out = None\n",
        "        self.mod = None\n",
        "        K.clear_session()\n",
        "\n",
        "    def _build_model(self):\n",
        "        inp = Input([None, None, 3])\n",
        "        x = Lambda(lambda k: tf.image.resize_bilinear(k, (224, 244)))(inp)\n",
        "        mod = VGG19(include_top=False, input_tensor=x, weights='imagenet', pooling='avg')\n",
        "        self.out = mod.output\n",
        "        self.mod = Model(inp, self.out)\n",
        "\n",
        "    @classmethod\n",
        "    def get_embedding_name(cls):\n",
        "        return 'vgg'\n",
        "\n",
        "    def get_embedding(self, dat):\n",
        "        if len(dat.shape) == 3:\n",
        "          dat = np.expand_dims(dat, -1)\n",
        "        if dat.shape[-1] == 1:\n",
        "            dat = np.array([cv2.cvtColor(k, cv2.COLOR_GRAY2RGB) for k in dat])\n",
        "        dat = preprocess_input(dat.astype(np.float32))\n",
        "        if not self.built:\n",
        "            self._build_model()\n",
        "            self.built = True\n",
        "\n",
        "        res = self.mod.predict(dat, 5, verbose=1)\n",
        "        return res\n",
        "\n",
        "#v = VGGFeatures()\n",
        "#pred = v.get_embedding(x_train) #cifar10"
      ],
      "execution_count": null,
      "outputs": []
    },
    {
      "cell_type": "code",
      "metadata": {
        "id": "eKnrrVhKGBlh",
        "colab_type": "code",
        "colab": {}
      },
      "source": [
        "class XceptionFeatures():\n",
        "    def __init__(self):\n",
        "        self.built = False\n",
        "\n",
        "    def __exit__(self):\n",
        "        self.out = None\n",
        "        self.mod = None\n",
        "        K.clear_session()\n",
        "\n",
        "    def _build_model(self):\n",
        "        inp = Input([None, None, 3])\n",
        "        x = Lambda(lambda k: tf.image.resize_bilinear(k, (224, 244)))(inp)\n",
        "        mod = Xception(include_top=False, input_tensor=x, weights='imagenet', pooling='avg')\n",
        "        self.out = mod.output\n",
        "        self.mod = Model(inp, self.out)\n",
        "\n",
        "    @classmethod\n",
        "    def get_embedding_name(cls):\n",
        "        return 'xception'\n",
        "\n",
        "    def get_embedding(self, dat):\n",
        "        if len(dat.shape) == 3:\n",
        "            dat = np.expand_dims(dat, -1)\n",
        "        if dat.shape[-1] == 1:\n",
        "            dat = np.array([cv2.cvtColor(k, cv2.COLOR_GRAY2RGB) for k in dat])\n",
        "        dat = preprocess_input(dat.astype(np.float32))\n",
        "        if not self.built:\n",
        "            self._build_model()\n",
        "            self.built = True\n",
        "\n",
        "        res = self.mod.predict(dat, 5, verbose=1)\n",
        "        return res\n",
        "\n",
        "# Xception = XceptionFeatures()\n",
        "# pred = Xception.get_embedding(x_train) #cifar10"
      ],
      "execution_count": null,
      "outputs": []
    },
    {
      "cell_type": "markdown",
      "metadata": {
        "id": "gvQwJS7Icd6H",
        "colab_type": "text"
      },
      "source": [
        "## Dataset Processing\n",
        "1. sample small dataset(sampling_dataset): select the number of sample per class(n_sample by deafult is 500)\n",
        "\n",
        "2. preprocessing dataset(preprocessing)\n",
        "\n",
        "3. fetch the dataset(fetch_dataset): rertun data, target, n_class\n",
        "  1. embedding representation of the data\n",
        "  2. number of class\n",
        "  3. target value(Y value)\n",
        "\n",
        "4. get_data: called fetch_dataset and then return normalized dataset otherwise we would get overflow errors\n"
      ]
    },
    {
      "cell_type": "code",
      "metadata": {
        "id": "XgZ7M-yrbx6X",
        "colab_type": "code",
        "colab": {}
      },
      "source": [
        "def sampling_dataset(data, n_samp=500, seed=None):\n",
        "    \"\"\"\n",
        "    Reduce the number of sample per class\n",
        "    Args:\n",
        "        data ((X_train, y_train), (X_test, y_test)):\n",
        "        n_samp (int, float): Number of sample per class\n",
        "        seed (int): RNG seed\n",
        "    Returns:(X_train, y_train), (X_test, y_test)\n",
        "    \"\"\"\n",
        "    if seed:\n",
        "        np.random.seed(seed)\n",
        "    (X_train, y_train), test_data = data\n",
        "    y_train = y_train.reshape([y_train.shape[0], -1])\n",
        "    sh = X_train.shape[1:]\n",
        "    acc_x = []\n",
        "    acc_y = []\n",
        "    for cl in np.unique(y_train, axis=0):\n",
        "        dat = X_train[np.all(y_train == cl, -1)]\n",
        "        s = int(n_samp) if n_samp > 1 else int(n_samp * len(dat))\n",
        "        acc_x.extend(dat[:s])\n",
        "        acc_y += [cl] * s\n",
        "    X_train = np.array(acc_x).reshape((-1,) + sh)\n",
        "    y_train = np.array(acc_y).reshape([len(acc_y), -1])\n",
        "    return (X_train, y_train), test_data\n",
        "\n",
        "#(x_train_small, y_train_small), _ = sampling_dataset(((x_train, y_train), (None, None)), n_samp = 50, seed = 1)\n",
        "#x_train_small.shape\n",
        "#t = TSNEEmbedding()\n",
        "#pred = t.get_embedding(x_train_small)\n",
        "#pred.shape\n",
        "\n",
        "def preprocessing(x_train, y_train, flatten=True):\n",
        "    \"\"\"\n",
        "    Does the processing on the datas\n",
        "    Args:\n",
        "        x_train: nd-array like, the inputs\n",
        "        y_train: nd-array like, the outputs\n",
        "        flatten: bool, flatten the images or not\n",
        "    Returns: data, target\n",
        "    \"\"\"\n",
        "    if flatten:\n",
        "        # Flatten the input\n",
        "        data = x_train.reshape([x_train.shape[0], -1])\n",
        "    else:\n",
        "        data = x_train\n",
        "    if len(y_train.shape) > 1:\n",
        "        target = y_train[:, 0]\n",
        "    else:\n",
        "        target = y_train\n",
        "\n",
        "    return data, target\n",
        "\n",
        "def fetch_dataset(x_t, y_t, config):\n",
        "    \"\"\"\n",
        "    Args:\n",
        "        ds_name: str: name of the dataset\n",
        "        embd_param: Type of embedding to use.\n",
        "            One of [None, 'embd', tsne', 'cnn_embd']\n",
        "    Returns: (data, target, n_class)\n",
        "    \"\"\"\n",
        "    #(x_train, y_train), _ = ds\n",
        "    (x_train, y_train) = x_t, y_t\n",
        "\n",
        "    # get the embedding\n",
        "    x_train = get_embedding(x_train, config)\n",
        "\n",
        "    n_class = len(np.unique(y_train))\n",
        "    # Flatten the dataset and categorize `y_train`\n",
        "    data, target = preprocessing(x_train, y_train)\n",
        "    return data, target, n_class\n",
        "\n",
        "\n",
        "def get_data(config, x_train, y_train):\n",
        "    embd = config['embd']\n",
        "    tsne = config[\"tsne\"]\n",
        "    data, target, n_class = fetch_dataset(x_train, y_train, config)\n",
        "    if embd in ['embd', 'cnn_embd', 'vgg', 'xception'] and tsne is False:\n",
        "        # This normalize the data otherwise we would get overflow errors.\n",
        "        data = quantile_transform(data)\n",
        "    return data, \"_\", n_class, embd, target"
      ],
      "execution_count": null,
      "outputs": []
    },
    {
      "cell_type": "code",
      "metadata": {
        "id": "v4ISuSD0DO5t",
        "colab_type": "code",
        "colab": {}
      },
      "source": [
        "def get_embedding(x_train, config):\n",
        "    \"\"\"\n",
        "    Get the embedding for x_train\n",
        "    Args:\n",
        "        x_train: input data\n",
        "        ds_name: dict, the run configuration\n",
        "        embd: type of embedding\n",
        "        tsne: boolean value, indicate whether to use tsne for data reduction\n",
        "    Returns: The embedded representation of x_train\n",
        "    \"\"\"\n",
        "    embd = config[\"embd\"]\n",
        "    tsne = config[\"tsne\"]\n",
        "\n",
        "    if embd in EMBEDDINGS:\n",
        "      if embd == \"vgg\":\n",
        "        v = VGGFeatures()\n",
        "        x_train = v.get_embedding(x_train)\n",
        "      elif embd == \"xception\":\n",
        "        v = XceptionFeatures()\n",
        "        x_train = v.get_embedding(x_train)\n",
        "    else:\n",
        "      print(\"There is no such embeding method: \" + embd + \". Please select from the following: ['embd', 'cnn_embd', 'vgg', 'xception']\")\n",
        "    #x_train, ds_name = embeddings_dict[embd]()(x_train, ds_name)\n",
        "    if tsne == True:\n",
        "        x_train, _ = TSNEEmbedding()(x_train)\n",
        "    return x_train"
      ],
      "execution_count": null,
      "outputs": []
    },
    {
      "cell_type": "markdown",
      "metadata": {
        "id": "gtyMOeGCeoME",
        "colab_type": "text"
      },
      "source": [
        "### Compute expectation with monte carlo"
      ]
    },
    {
      "cell_type": "code",
      "metadata": {
        "id": "lzlMHp-PQ7Np",
        "colab_type": "code",
        "colab": {}
      },
      "source": [
        "def compute_expectation_with_monte_carlo(data, target, class_samples, n_class, k_nearest=5):\n",
        "    \"\"\"\n",
        "    Compute E_{p(x\\mid C_i)} [p(x\\mid C_j)] for all classes from samples\n",
        "    with a monte carlo estimator.\n",
        "    Args:\n",
        "        data: [num_samples, n_features], the inputs\n",
        "        target: [num_samples], the classes\n",
        "        class_samples: [n_class, M, n_features], the M samples per class\n",
        "        n_class: The number of classes\n",
        "        k_nearest: number of neighbors for k-NN\n",
        "    Returns: [n_class, n_class] matrix with probabilities\n",
        "    \"\"\"\n",
        "\n",
        "    def get_volume(dt):\n",
        "        # [k_nearest, ?]\n",
        "        # Compute the volume of the parzen-window\n",
        "        dst = (np.abs(dt[1:] - dt[0]).max(0) * 2).prod()\n",
        "        # Minimum is 1e-4 to avoid division per 0\n",
        "        res = max(1e-4, dst)\n",
        "        return res\n",
        "\n",
        "    expectation = np.zeros([n_class, n_class])\n",
        "    # For each class, we compute the expectation from the samples.\n",
        "    # Create a  matrix of similarity [n_class, M, n_samples]\n",
        "    # http://scikit-learn.org/stable/modules/generated/sklearn.neighbors.DistanceMetric.html\n",
        "    dist = DistanceMetric.get_metric('euclidean')\n",
        "    similarities = lambda k : np.array(dist.pairwise(class_samples[k], data))\n",
        "\n",
        "    for k in range(n_class):\n",
        "        # Compute E_{p(x\\mid C_i)} [p(x\\mid C_j)] using a Parzen-Window\n",
        "        all_keep = similarities(k)\n",
        "        for to_keep in all_keep:\n",
        "            nearest = to_keep.argsort()[:k_nearest + 1]\n",
        "            target_k = np.array(target)[nearest[1:]]\n",
        "            # Get the Parzen-Window probability\n",
        "            expectation[k] += (np.array([(target_k == ki).sum() / len(target_k) for ki in range(n_class)])) / get_volume(\n",
        "                data[nearest])\n",
        "\n",
        "        # Normalize the proportion for Bray-Curtis\n",
        "        expectation[k] /= expectation[k].sum()\n",
        "\n",
        "    # Make everything nice by replacing INF with zero values.\n",
        "    expectation[np.logical_not(np.isfinite(expectation))] = 0\n",
        "\n",
        "    #print(\"----------------Diagonal--------------------\")\n",
        "    #print(np.round(np.diagonal(expectation), 4))\n",
        "    return expectation\n"
      ],
      "execution_count": null,
      "outputs": []
    },
    {
      "cell_type": "code",
      "metadata": {
        "id": "rmMekZVoHnIZ",
        "colab_type": "code",
        "colab": {}
      },
      "source": [
        "def find_samples(data, n_class, target, M=100):\n",
        "    \"\"\"\n",
        "    Find M samples per class\n",
        "    Args:\n",
        "        data: [num_samples, n_features], the inputs\n",
        "        target: [num_samples], the classes\n",
        "        n_class: The number of classes\n",
        "        M: (int, float), Number or proportion of sample per class\n",
        "    Returns: [n_class, M, n_features], the M samples per class\n",
        "    \"\"\"\n",
        "    class_samples = []\n",
        "    for k in range(n_class):\n",
        "        data_in_cls = data[target == k]\n",
        "        to_take = M if M > 1 else int(M * len(data_in_cls))\n",
        "        class_samples.append(data_in_cls[np.random.choice(len(data_in_cls), min(to_take, len(data_in_cls)), replace=False)])\n",
        "    return np.array(class_samples)\n",
        "\n",
        "def get_cummax(eigens):\n",
        "    \"\"\"\n",
        "    Get the confidence interval at 95%\n",
        "    Args:\n",
        "        eigens (): List of eigenvalues ndarray (?, ?)\n",
        "    Returns: mu, interval\n",
        "    \"\"\"\n",
        "\n",
        "    def mean_confidence_interval(data, confidence=0.95):\n",
        "        a = 1.0 * np.array(data)\n",
        "        n = len(a)\n",
        "        m, se = np.mean(a), scipy.stats.sem(a)\n",
        "        h = se * sp.stats.t._ppf((1 + confidence) / 2., n - 1)\n",
        "        return m, m - h, m + h\n",
        "\n",
        "    # [?, n_class]\n",
        "    grads = (eigens[1:] - eigens[:-1]) # --> eigengap\n",
        "    ratios = (grads / (np.array([list(reversed(range(1, grads.shape[-1] + 1)))]) + 1)) #normalized eigengap\n",
        "    # Take the mean of the cummax before summing it.\n",
        "    cumsums = np.maximum.accumulate(ratios, -1).sum(1) ##find the cumulative maximum over the normalized eigengaps\n",
        "    mu, lb, ub = mean_confidence_interval(cumsums)\n",
        "    return mu, ub - mu, cumsums"
      ],
      "execution_count": null,
      "outputs": []
    },
    {
      "cell_type": "markdown",
      "metadata": {
        "id": "T4JTr6mkfDWf",
        "colab_type": "text"
      },
      "source": [
        "### Cumulative Gradient Estimator"
      ]
    },
    {
      "cell_type": "code",
      "metadata": {
        "id": "bdSp1EhOOiMk",
        "colab_type": "code",
        "colab": {}
      },
      "source": [
        "class CumulativeGradientEstimator(object):\n",
        "    def __init__(self, M_sample=250, k_nearest=3, isomap=None):\n",
        "        \"\"\"\n",
        "        The Cumulative Gradient Estimator, estimates the complexity of a dataset.\n",
        "        Args:\n",
        "            M_sample (int): Number of sample per class to use\n",
        "            k_nearest (int): Number of neighbours to look to compute $P(C_c \\vert x)$.\n",
        "            isomap (None, int): Optional, number of component of the Isomap\n",
        "        \"\"\"\n",
        "        self.M_sample = M_sample\n",
        "        self.k_nearest = k_nearest\n",
        "        self.isomap = isomap\n",
        "\n",
        "    def fit(self, data, target):\n",
        "        \"\"\"\n",
        "        Estimate the CSG metric from the data\n",
        "        Args:\n",
        "            data: data samples, ndarray (n_samples, n_features)\n",
        "            target: target samples, ndarray (n_samples)\n",
        "        \"\"\"\n",
        "        np.random.seed(None)\n",
        "        data_x = data.copy()\n",
        "        self.n_class = len(np.unique(target))\n",
        "\n",
        "        # Do class sampling\n",
        "        class_samples = np.array(find_samples(data_x, self.n_class, target, M=self.M_sample))\n",
        "        print(\"class_samples: [n_class, M, n_features], the M samples per class...\" + str(class_samples.shape))\n",
        "        \n",
        "        # Compute isomap\n",
        "        if self.isomap:\n",
        "            class_samples, data_x = make_isomap(class_samples, data_x, self.isomap)\n",
        "        return self.compute(data_x, target, class_samples)\n",
        "\n",
        "    def compute(self, data, target, class_samples):\n",
        "        \"\"\"\n",
        "        Compute the difference matrix and the eigenvalues\n",
        "        Args:\n",
        "            data: data samples, ndarray (n_samples, n_features)\n",
        "            target: target samples, ndarray (n_samples)\n",
        "            class_samples : class samples, ndarray (n_class, M, n_features)\n",
        "        \"\"\"\n",
        "        # Compute E_{p(x\\mid C_i)} [p(x\\mid C_j)]\n",
        "        self.S = compute_expectation_with_monte_carlo(data, target, class_samples,\n",
        "                                                      n_class=self.n_class,\n",
        "                                                      k_nearest=self.k_nearest)\n",
        "\n",
        "        # Compute the D matrix\n",
        "        self.W = np.empty([self.n_class, self.n_class])\n",
        "        for i, j in (product(range(self.n_class), range(self.n_class))):\n",
        "            self.W[i, j] = 1 - scipy.spatial.distance.braycurtis(self.S[i], self.S[j])\n",
        "\n",
        "        self.difference = 1 - self.W\n",
        "\n",
        "        # Get the Laplacian and its eigen values\n",
        "        self.L_mat, dd = laplacian(self.W, False, True)\n",
        "        self.evals, self.evecs = np.linalg.eigh(self.L_mat)\n",
        "        return self.evals, self.evecs"
      ],
      "execution_count": null,
      "outputs": []
    },
    {
      "cell_type": "markdown",
      "metadata": {
        "id": "DG5Yrcc4KF5K",
        "colab_type": "text"
      },
      "source": [
        "## Generate Dataset"
      ]
    },
    {
      "cell_type": "code",
      "metadata": {
        "id": "JV9o75ifKEpv",
        "colab_type": "code",
        "colab": {}
      },
      "source": [
        "def generate_data(ds, n_samples = 100, noise = 0.05, factor = 0.5):\n",
        "  row = []\n",
        "  target = []\n",
        "  if ds.lower() == \"moon\":\n",
        "    filename = \"moon_\" + str(n_samples) + \".csv\"\n",
        "    X_moons, y_moons = make_moons(n_samples, noise)\n",
        "    row = X_moons\n",
        "    target = y_moons\n",
        "  # name of csv file  \n",
        "  if ds.lower() == \"circle\":\n",
        "    filename = \"circle_\" + str(n_samples) + \".csv\"\n",
        "    X_circle, y_circle = make_circles(n_samples, factor, noise) \n",
        "    row = X_circle\n",
        "    target = y_circle\n",
        "  \n",
        "  # writing to csv file  \n",
        "    with open(filename, 'w') as csvfile:  \n",
        "        # creating a csv writer object  \n",
        "        csvwriter = csv.writer(csvfile)  \n",
        "        \n",
        "        for x, y in zip(row, target):\n",
        "          x = np.append(x, [y])\n",
        "          csvwriter.writerow(x)\n",
        "  return row, target"
      ],
      "execution_count": null,
      "outputs": []
    },
    {
      "cell_type": "code",
      "metadata": {
        "id": "e5JDvhixLvHn",
        "colab_type": "code",
        "colab": {}
      },
      "source": [
        "X, Y = generate_data(\"moon\", 200)"
      ],
      "execution_count": null,
      "outputs": []
    },
    {
      "cell_type": "markdown",
      "metadata": {
        "id": "B_U5QvdjfLK_",
        "colab_type": "text"
      },
      "source": [
        "## Read Dataset"
      ]
    },
    {
      "cell_type": "code",
      "metadata": {
        "id": "1AFTYIgnVI78",
        "colab_type": "code",
        "colab": {}
      },
      "source": [
        "import os,sys\n",
        "from glob import glob as gl\n",
        "import cv2\n",
        "glob = lambda k: sorted(gl(k))\n",
        "\n",
        "pjoin = os.path.join\n",
        "DATASET_ROOT = \"/content\"\n",
        "SEEFOOD = pjoin(DATASET_ROOT, \"seefood\")\n",
        "INRIA  = pjoin(DATASET_ROOT, \"INRIAPerson\")\n",
        "\n",
        "def read_seefood(path):\n",
        "    \"\"\"Read the Seefood dataset\"\"\"\n",
        "    imgs = {'train': [], 'test': []}\n",
        "    labels = {'train': [], 'test': []}\n",
        "    cls = ['not_hot_dog', 'hot_dog']\n",
        "    for pt in glob(pjoin(path, '*', '*', '*.jpg')):\n",
        "      #200,200\n",
        "        img = cv2.resize(cv2.imread(pt), (32, 32))\n",
        "        if img is not None:\n",
        "            mod, cl, _ = pt.split('/')[-3:]\n",
        "            imgs[mod].append(img)\n",
        "            labels[mod].append(cls.index(cl)) #mapping 0/1 to [not_hot_dog, hot_dog]\n",
        "    return (np.array(imgs['train']), np.array(labels['train'])), (np.array(imgs['test']), np.array(labels['test']))\n",
        "\n",
        "def read_inria(pt):\n",
        "    \"\"\"Read the INRIA dataset\"\"\"\n",
        "\n",
        "    def load_data(pt2):\n",
        "      #64,128\n",
        "        return [(cv2.resize(cv2.imread(pjoin(pt2, 'pos', k)), (32, 32)), 1) for k in os.listdir(pjoin(pt2, 'pos'))] + [\n",
        "            (cv2.resize(cv2.imread(pjoin(pt2, 'neg', k)), (32, 32)), 0) for k in os.listdir(pjoin(pt2, 'neg'))]\n",
        "\n",
        "    (X_train, y_train) = zip(*load_data(pjoin(pt, 'Train')))\n",
        "    (X_test, y_test) = zip(*load_data(pjoin(pt, 'Test')))\n",
        "    return (np.array(X_train), np.array(y_train)), (np.array(X_test), np.array(y_test))\n",
        "  \n",
        "def read_dataset(path):\n",
        "  shape = 0\n",
        "  X = []\n",
        "  Y = []\n",
        "  with open(path,'rt') as csvfile:\n",
        "    csvreader = csv.reader(csvfile)       \n",
        "    for row in csvreader:\n",
        "      row = [float(i) for i in row] \n",
        "      shape = len(row[:-1])\n",
        "      X.append(row[:-1])\n",
        "      Y.append(row[-1])\n",
        "    X = np.asarray(X, dtype=np.float32)\n",
        "    Y = np.asarray(Y, dtype=np.float32)\n",
        "    Y[Y == -1] = 0\n",
        "    return X, Y, shape\n",
        "\n",
        "def generate_dataset(n_samp, seed, ds_name):\n",
        "  (x_train, y_train), _ = ds_name.load_data()\n",
        "  (x_train_small, y_train_small), _ = sampling_dataset(((x_train, y_train), (None, None)), n_samp, seed)\n",
        "  return (x_train_small, y_train_small), _"
      ],
      "execution_count": null,
      "outputs": []
    },
    {
      "cell_type": "code",
      "metadata": {
        "id": "BhP_1BVUc5vn",
        "colab_type": "code",
        "colab": {}
      },
      "source": [
        "(x_train_seefood, y_train_seefood), (x_test_seefood, y_test_seefood) = read_seefood(SEEFOOD)\n",
        "# (x_train_inria, y_train_inria), (x_test_inria, y_test_inria) = read_inria(INRIA)"
      ],
      "execution_count": null,
      "outputs": []
    },
    {
      "cell_type": "code",
      "metadata": {
        "id": "monFLi6OeRkm",
        "colab_type": "code",
        "colab": {
          "base_uri": "https://localhost:8080/",
          "height": 283
        },
        "outputId": "195a3623-dbee-42e0-d5dc-b8bd7ad6ee9d"
      },
      "source": [
        "plt.imshow(x_train_seefood[0])"
      ],
      "execution_count": null,
      "outputs": [
        {
          "output_type": "execute_result",
          "data": {
            "text/plain": [
              "<matplotlib.image.AxesImage at 0x7fa29fd83c18>"
            ]
          },
          "metadata": {
            "tags": []
          },
          "execution_count": 16
        },
        {
          "output_type": "display_data",
          "data": {
            "image/png": "[encoded data removed]",
            "text/plain": [
              "<Figure size 432x288 with 1 Axes>"
            ]
          },
          "metadata": {
            "tags": [],
            "needs_background": "light"
          }
        }
      ]
    },
    {
      "cell_type": "code",
      "metadata": {
        "id": "Mym6QTxO-Ipk",
        "colab_type": "code",
        "colab": {
          "base_uri": "https://localhost:8080/",
          "height": 85
        },
        "outputId": "0383ffef-5e99-422c-cc47-02db984a513b"
      },
      "source": [
        "n_samp = 100 #100\n",
        "\n",
        "cifar10 = tf.keras.datasets.cifar10 #32x32\n",
        "mnist = tf.keras.datasets.mnist # 28x28\n",
        "\n",
        "(x_train_small_mnist, y_train_small_mnist), _ = generate_dataset(n_samp, 1, mnist)\n",
        "(x_train_small_cifar10, y_train_small_cifar10), _ = generate_dataset(n_samp, 1, cifar10)"
      ],
      "execution_count": null,
      "outputs": [
        {
          "output_type": "stream",
          "text": [
            "Downloading data from https://storage.googleapis.com/tensorflow/tf-keras-datasets/mnist.npz\n",
            "11493376/11490434 [==============================] - 0s 0us/step\n",
            "Downloading data from https://www.cs.toronto.edu/~kriz/cifar-10-python.tar.gz\n",
            "170500096/170498071 [==============================] - 11s 0us/step\n"
          ],
          "name": "stdout"
        }
      ]
    },
    {
      "cell_type": "code",
      "metadata": {
        "id": "3Vmd1uA-i4WI",
        "colab_type": "code",
        "colab": {}
      },
      "source": [
        "#binary classification dataset\n",
        "(x_train_small_seefood, y_train_small_seefood), _ = sampling_dataset(((x_train_seefood, y_train_seefood), (None, None)), n_samp, 1)\n",
        "#(x_train_small_inria, y_train_small_inria), _ = sampling_dataset(((x_train_inria, y_train_inria), (None, None)), n_samp, 1)"
      ],
      "execution_count": null,
      "outputs": []
    },
    {
      "cell_type": "code",
      "metadata": {
        "id": "RnB9lcBej4eR",
        "colab_type": "code",
        "colab": {}
      },
      "source": [
        "GSC_scores = []\n",
        "input_dim = []\n",
        "est_caps = []\n",
        "ds = []\n",
        "\n",
        "#config for CumulativeGradientEstimator\n",
        "M_sample = 200 #default -> 250, k_nearest = 10\n",
        "k_nearest = 10\n",
        "isomap = None\n",
        "\n",
        "config_cifar10 = {\"ds_name\":\"cifar10\", \"embd\":\"vgg\", \"tsne\":False}\n",
        "config_mnist = {\"ds_name\":\"mnist\", \"embd\":\"vgg\", \"tsne\":False}\n",
        "config_seefood = {\"ds_name\":\"seefood\", \"embd\":\"vgg\", \"tsne\":False}\n",
        "config_inria = {\"ds_name\":\"inria\", \"embd\":\"vgg\", \"tsne\":False}"
      ],
      "execution_count": null,
      "outputs": []
    },
    {
      "cell_type": "code",
      "metadata": {
        "id": "oaLkbaHqkGbi",
        "colab_type": "code",
        "colab": {}
      },
      "source": [
        "path_circle = pjoin(DATASET_ROOT, \"circle_100_35dB.csv\")\n",
        "path_spiral = pjoin(DATASET_ROOT, \"spiral_100_35dB.csv\")\n",
        "path_gauss = pjoin(DATASET_ROOT, \"gauss_100_35dB.csv\")\n",
        "path_xor = pjoin(DATASET_ROOT, \"xor_100_35dB.csv\")\n",
        "path_moon = pjoin(DATASET_ROOT, \"moon_100.csv\")\n",
        "\n",
        "config_circle = {\"ds_name\":\"circle\", \"embd\":\"vgg\", \"tsne\":False}\n",
        "config_spiral = {\"ds_name\": \"spiral\", \"embd\":\"vgg\", \"tsne\":False}\n",
        "config_gauss = {\"ds_name\": \"gauss\", \"embd\":\"vgg\", \"tsne\":False}\n",
        "config_xor = {\"ds_name\": \"xor\", \"embd\":\"vgg\", \"tsne\":False}\n",
        "config_moon = {\"ds_name\": \"moon\", \"embd\":\"vgg\", \"tsne\":False}"
      ],
      "execution_count": null,
      "outputs": []
    },
    {
      "cell_type": "code",
      "metadata": {
        "id": "noz20SfjkQFH",
        "colab_type": "code",
        "colab": {}
      },
      "source": [
        "x_train_circle, y_train_circle , _ = read_dataset(path_circle)\n",
        "x_train_spiral, y_train_spiral , _ = read_dataset(path_spiral)\n",
        "x_train_gauss, y_train_gauss, _ = read_dataset(path_gauss)\n",
        "x_train_xor, y_train_xor, _ = read_dataset(path_xor)"
      ],
      "execution_count": null,
      "outputs": []
    },
    {
      "cell_type": "code",
      "metadata": {
        "id": "4pWZiz_4Jcnb",
        "colab_type": "code",
        "colab": {}
      },
      "source": [
        "x_train_moon, y_train_moon, _ = read_dataset(path_moon)"
      ],
      "execution_count": null,
      "outputs": []
    },
    {
      "cell_type": "markdown",
      "metadata": {
        "id": "jDERslyhgbcP",
        "colab_type": "text"
      },
      "source": [
        "## Calculate Cummax"
      ]
    },
    {
      "cell_type": "code",
      "metadata": {
        "id": "YPj8Auf_HtWA",
        "colab_type": "code",
        "colab": {}
      },
      "source": [
        "def cummax(config, x_train_small, y_train_small, M_sample, k_nearest, isomap, flag = True):\n",
        "  if flag:\n",
        "    data, ds_name, n_class, pca_params, target = get_data(config, x_train_small, y_train_small)\n",
        "    estimator = CumulativeGradientEstimator(M_sample, k_nearest, isomap)\n",
        "    estimator.fit(data, target)\n",
        "    gsc = get_cummax(estimator.evals)\n",
        "    print(\"----------------\" + config[\"ds_name\"] + \"----------------------\")\n",
        "    print(\"mu, ub - mu, cumsums: \" + str(gsc))\n",
        "    print(\"---------------------------------------------------------------\")\n",
        "    return config[\"ds_name\"], gsc[0]\n",
        "  else:\n",
        "    data, target = preprocessing(x_train_small, y_train_small)\n",
        "    estimator = CumulativeGradientEstimator(M_sample, k_nearest, isomap)\n",
        "    estimator.fit(data, target)\n",
        "    gsc = get_cummax(estimator.evals)\n",
        "    print(\"----------------\" + config[\"ds_name\"] + \"----------------------\")\n",
        "    print(\"mu, ub - mu, cumsums: \" + str(gsc))\n",
        "    print(\"---------------------------------------------------------------\")\n",
        "    return config[\"ds_name\"], gsc[0]"
      ],
      "execution_count": null,
      "outputs": []
    },
    {
      "cell_type": "code",
      "metadata": {
        "colab_type": "code",
        "id": "9vqFaMZ7Hsnn",
        "colab": {
          "base_uri": "https://localhost:8080/",
          "height": 377
        },
        "outputId": "603e6ea0-07df-43c2-b9fa-99001681207c"
      },
      "source": [
        "#MNIST\n",
        "ds_name, gsc = cummax(config_mnist, x_train_small_mnist, y_train_small_mnist, M_sample, k_nearest, isomap)\n",
        "GSC_scores.append(gsc)\n",
        "ds.append(ds_name)"
      ],
      "execution_count": null,
      "outputs": [
        {
          "output_type": "stream",
          "text": [
            "WARNING:tensorflow:From /tensorflow-1.15.2/python3.6/tensorflow_core/python/ops/resource_variable_ops.py:1630: calling BaseResourceVariable.__init__ (from tensorflow.python.ops.resource_variable_ops) with constraint is deprecated and will be removed in a future version.\n",
            "Instructions for updating:\n",
            "If using Keras pass *_constraint arguments to layers.\n",
            "WARNING:tensorflow:From /usr/local/lib/python3.6/dist-packages/keras/backend/tensorflow_backend.py:4070: The name tf.nn.max_pool is deprecated. Please use tf.nn.max_pool2d instead.\n",
            "\n",
            "Downloading data from https://github.com/fchollet/deep-learning-models/releases/download/v0.1/vgg19_weights_tf_dim_ordering_tf_kernels_notop.h5\n",
            "80142336/80134624 [==============================] - 6s 0us/step\n",
            "WARNING:tensorflow:From /usr/local/lib/python3.6/dist-packages/keras/backend/tensorflow_backend.py:422: The name tf.global_variables is deprecated. Please use tf.compat.v1.global_variables instead.\n",
            "\n",
            "1000/1000 [==============================] - 621s 621ms/step\n"
          ],
          "name": "stdout"
        },
        {
          "output_type": "stream",
          "text": [
            "/usr/local/lib/python3.6/dist-packages/sklearn/preprocessing/_data.py:2670: FutureWarning: The default value of `copy` will change from False to True in 0.23 in order to make it more consistent with the default `copy` values of other functions in :mod:`sklearn.preprocessing` and prevent unexpected side effects by modifying the value of `X` inplace. To avoid inplace modifications of `X`, it is recommended to explicitly set `copy=True`\n",
            "  FutureWarning)\n"
          ],
          "name": "stderr"
        },
        {
          "output_type": "stream",
          "text": [
            "class_samples: [n_class, M, n_features], the M samples per class...(10, 100, 512)\n",
            "----------------mnist----------------------\n",
            "mu, ub - mu, cumsums: (0.42775047490164325, nan, array([0.42775047]))\n",
            "---------------------------------------------------------------\n"
          ],
          "name": "stdout"
        },
        {
          "output_type": "stream",
          "text": [
            "/usr/local/lib/python3.6/dist-packages/numpy/core/_methods.py:217: RuntimeWarning: Degrees of freedom <= 0 for slice\n",
            "  keepdims=keepdims)\n",
            "/usr/local/lib/python3.6/dist-packages/numpy/core/_methods.py:209: RuntimeWarning: invalid value encountered in double_scalars\n",
            "  ret = ret.dtype.type(ret / rcount)\n"
          ],
          "name": "stderr"
        }
      ]
    },
    {
      "cell_type": "code",
      "metadata": {
        "id": "4QioXIrMCMnh",
        "colab_type": "code",
        "colab": {
          "base_uri": "https://localhost:8080/",
          "height": 292
        },
        "outputId": "4dd76bff-9534-43dd-8245-5b58df4782ee"
      },
      "source": [
        "#CIFAR 10\n",
        "ds_name, gsc = cummax(config_cifar10, x_train_small_cifar10, y_train_small_cifar10, M_sample, k_nearest, isomap)\n",
        "GSC_scores.append(gsc)\n",
        "ds.append(ds_name)"
      ],
      "execution_count": null,
      "outputs": [
        {
          "output_type": "stream",
          "text": [
            "1000/1000 [==============================] - 622s 622ms/step\n"
          ],
          "name": "stdout"
        },
        {
          "output_type": "stream",
          "text": [
            "/usr/local/lib/python3.6/dist-packages/sklearn/preprocessing/_data.py:2670: FutureWarning: The default value of `copy` will change from False to True in 0.23 in order to make it more consistent with the default `copy` values of other functions in :mod:`sklearn.preprocessing` and prevent unexpected side effects by modifying the value of `X` inplace. To avoid inplace modifications of `X`, it is recommended to explicitly set `copy=True`\n",
            "  FutureWarning)\n"
          ],
          "name": "stderr"
        },
        {
          "output_type": "stream",
          "text": [
            "class_samples: [n_class, M, n_features], the M samples per class...(10, 100, 512)\n"
          ],
          "name": "stdout"
        },
        {
          "output_type": "stream",
          "text": [
            "/usr/local/lib/python3.6/dist-packages/numpy/core/_methods.py:42: RuntimeWarning: overflow encountered in reduce\n",
            "  return umr_prod(a, axis, dtype, out, keepdims, initial, where)\n",
            "/usr/local/lib/python3.6/dist-packages/numpy/core/_methods.py:42: RuntimeWarning: invalid value encountered in reduce\n",
            "  return umr_prod(a, axis, dtype, out, keepdims, initial, where)\n"
          ],
          "name": "stderr"
        },
        {
          "output_type": "stream",
          "text": [
            "----------------cifar10----------------------\n",
            "mu, ub - mu, cumsums: (1.3961096948172225, nan, array([1.39610969]))\n",
            "---------------------------------------------------------------\n"
          ],
          "name": "stdout"
        },
        {
          "output_type": "stream",
          "text": [
            "/usr/local/lib/python3.6/dist-packages/numpy/core/_methods.py:217: RuntimeWarning: Degrees of freedom <= 0 for slice\n",
            "  keepdims=keepdims)\n",
            "/usr/local/lib/python3.6/dist-packages/numpy/core/_methods.py:209: RuntimeWarning: invalid value encountered in double_scalars\n",
            "  ret = ret.dtype.type(ret / rcount)\n"
          ],
          "name": "stderr"
        }
      ]
    },
    {
      "cell_type": "code",
      "metadata": {
        "id": "-2G5gkI5T5tt",
        "colab_type": "code",
        "colab": {
          "base_uri": "https://localhost:8080/",
          "height": 258
        },
        "outputId": "6c062fcb-dee4-460d-b0cb-968fe67073b9"
      },
      "source": [
        "#SEEFOOD\n",
        "ds_name, gsc = cummax(config_seefood, x_train_small_seefood, y_train_small_seefood, M_sample, 2, isomap)\n",
        "GSC_scores.append(gsc)\n",
        "ds.append(ds_name)"
      ],
      "execution_count": null,
      "outputs": [
        {
          "output_type": "stream",
          "text": [
            "200/200 [==============================] - 128s 638ms/step\n",
            "class_samples: [n_class, M, n_features], the M samples per class...(2, 100, 512)\n",
            "----------------seefood----------------------\n",
            "mu, ub - mu, cumsums: (0.6599999999999999, nan, array([0.66]))\n",
            "---------------------------------------------------------------\n"
          ],
          "name": "stdout"
        },
        {
          "output_type": "stream",
          "text": [
            "/usr/local/lib/python3.6/dist-packages/sklearn/preprocessing/_data.py:2670: FutureWarning: The default value of `copy` will change from False to True in 0.23 in order to make it more consistent with the default `copy` values of other functions in :mod:`sklearn.preprocessing` and prevent unexpected side effects by modifying the value of `X` inplace. To avoid inplace modifications of `X`, it is recommended to explicitly set `copy=True`\n",
            "  FutureWarning)\n",
            "/usr/local/lib/python3.6/dist-packages/sklearn/preprocessing/_data.py:2357: UserWarning: n_quantiles (1000) is greater than the total number of samples (200). n_quantiles is set to n_samples.\n",
            "  % (self.n_quantiles, n_samples))\n",
            "/usr/local/lib/python3.6/dist-packages/numpy/core/_methods.py:217: RuntimeWarning: Degrees of freedom <= 0 for slice\n",
            "  keepdims=keepdims)\n",
            "/usr/local/lib/python3.6/dist-packages/numpy/core/_methods.py:209: RuntimeWarning: invalid value encountered in double_scalars\n",
            "  ret = ret.dtype.type(ret / rcount)\n"
          ],
          "name": "stderr"
        }
      ]
    },
    {
      "cell_type": "code",
      "metadata": {
        "id": "86ssmny1HcYl",
        "colab_type": "code",
        "colab": {}
      },
      "source": [
        "# INRIA\n",
        "# ds_name, gsc = cummax(config_inria, x_train_small_inria, y_train_small_inria, M_sample, 2, isomap)\n",
        "# GSC_scores.append(gsc)\n",
        "# ds.append(ds_name)"
      ],
      "execution_count": null,
      "outputs": []
    },
    {
      "cell_type": "code",
      "metadata": {
        "id": "5zvnsB2c-Q8G",
        "colab_type": "code",
        "colab": {
          "base_uri": "https://localhost:8080/",
          "height": 232
        },
        "outputId": "1293bb7b-ba58-498c-a6de-144f1657c801"
      },
      "source": [
        "#2D Classification problems\n",
        "ds_name, gsc = cummax(config_circle, x_train_circle, y_train_circle, 50, 2, isomap, False)\n",
        "GSC_scores.append(gsc)\n",
        "ds.append(ds_name)\n",
        "\n",
        "ds_name, gsc = cummax(config_spiral, x_train_spiral, y_train_spiral, 50, 2, isomap, False)\n",
        "GSC_scores.append(gsc)\n",
        "ds.append(ds_name)\n",
        "\n",
        "ds_name, gsc = cummax(config_gauss, x_train_gauss, y_train_gauss, 50, 2, isomap, False)\n",
        "GSC_scores.append(gsc)\n",
        "ds.append(ds_name)\n",
        "\n",
        "ds_name, gsc = cummax(config_xor, x_train_xor, y_train_xor, 50, 2, isomap, False)\n",
        "GSC_scores.append(gsc)\n",
        "ds.append(ds_name)"
      ],
      "execution_count": null,
      "outputs": [
        {
          "output_type": "error",
          "ename": "NameError",
          "evalue": "ignored",
          "traceback": [
            "\u001b[0;31m---------------------------------------------------------------------------\u001b[0m",
            "\u001b[0;31mNameError\u001b[0m                                 Traceback (most recent call last)",
            "\u001b[0;32m<ipython-input-16-14414422f62d>\u001b[0m in \u001b[0;36m<module>\u001b[0;34m()\u001b[0m\n\u001b[1;32m      1\u001b[0m \u001b[0;31m#2D Classification problems\u001b[0m\u001b[0;34m\u001b[0m\u001b[0;34m\u001b[0m\u001b[0;34m\u001b[0m\u001b[0m\n\u001b[0;32m----> 2\u001b[0;31m \u001b[0mds_name\u001b[0m\u001b[0;34m,\u001b[0m \u001b[0mgsc\u001b[0m \u001b[0;34m=\u001b[0m \u001b[0mcummax\u001b[0m\u001b[0;34m(\u001b[0m\u001b[0mconfig_circle\u001b[0m\u001b[0;34m,\u001b[0m \u001b[0mx_train_circle\u001b[0m\u001b[0;34m,\u001b[0m \u001b[0my_train_circle\u001b[0m\u001b[0;34m,\u001b[0m \u001b[0;36m50\u001b[0m\u001b[0;34m,\u001b[0m \u001b[0;36m2\u001b[0m\u001b[0;34m,\u001b[0m \u001b[0misomap\u001b[0m\u001b[0;34m,\u001b[0m \u001b[0;32mFalse\u001b[0m\u001b[0;34m)\u001b[0m\u001b[0;34m\u001b[0m\u001b[0;34m\u001b[0m\u001b[0m\n\u001b[0m\u001b[1;32m      3\u001b[0m \u001b[0mGSC_scores\u001b[0m\u001b[0;34m.\u001b[0m\u001b[0mappend\u001b[0m\u001b[0;34m(\u001b[0m\u001b[0mgsc\u001b[0m\u001b[0;34m)\u001b[0m\u001b[0;34m\u001b[0m\u001b[0;34m\u001b[0m\u001b[0m\n\u001b[1;32m      4\u001b[0m \u001b[0mds\u001b[0m\u001b[0;34m.\u001b[0m\u001b[0mappend\u001b[0m\u001b[0;34m(\u001b[0m\u001b[0mds_name\u001b[0m\u001b[0;34m)\u001b[0m\u001b[0;34m\u001b[0m\u001b[0;34m\u001b[0m\u001b[0m\n\u001b[1;32m      5\u001b[0m \u001b[0;34m\u001b[0m\u001b[0m\n",
            "\u001b[0;31mNameError\u001b[0m: name 'config_circle' is not defined"
          ]
        }
      ]
    },
    {
      "cell_type": "code",
      "metadata": {
        "id": "7p3Hc5DuJq-l",
        "colab_type": "code",
        "colab": {
          "base_uri": "https://localhost:8080/",
          "height": 190
        },
        "outputId": "b8010095-a3b9-44a2-de25-91da26c3c163"
      },
      "source": [
        "ds_name, gsc = cummax(config_moon, x_train_moon, y_train_moon, 50, 2, isomap, False)\n",
        "GSC_scores.append(gsc)\n",
        "ds.append(ds_name)\n",
        "print(gsc)"
      ],
      "execution_count": null,
      "outputs": [
        {
          "output_type": "stream",
          "text": [
            "class_samples: [n_class, M, n_features], the M samples per class...(2, 50, 2)\n",
            "----------------moon----------------------\n",
            "mu, ub - mu, cumsums: (0.0, nan, array([0.]))\n",
            "---------------------------------------------------------------\n",
            "0.0\n"
          ],
          "name": "stdout"
        },
        {
          "output_type": "stream",
          "text": [
            "/usr/local/lib/python3.6/dist-packages/numpy/core/_methods.py:217: RuntimeWarning: Degrees of freedom <= 0 for slice\n",
            "  keepdims=keepdims)\n",
            "/usr/local/lib/python3.6/dist-packages/numpy/core/_methods.py:209: RuntimeWarning: invalid value encountered in double_scalars\n",
            "  ret = ret.dtype.type(ret / rcount)\n"
          ],
          "name": "stderr"
        }
      ]
    },
    {
      "cell_type": "markdown",
      "metadata": {
        "id": "N-JyRD3oN3lo",
        "colab_type": "text"
      },
      "source": [
        "# Heuristic Method \n",
        "\"A Practical Approach to Sizing Neural Networks\" by\n",
        "Gerald Friedland, Alfredo Metere, Mario Michael Krell"
      ]
    },
    {
      "cell_type": "code",
      "metadata": {
        "id": "CNie0A2_Fatf",
        "colab_type": "code",
        "colab": {}
      },
      "source": [
        "def csv_cap_est(path, ds_name):\n",
        "  energies=[]\n",
        "  capacity=0\n",
        "  rounding=-1\n",
        "  numpoints=0\n",
        "  numrows=0\n",
        "\n",
        "  with open(path,'rt') as csvfile:\n",
        "    csvreader = csv.reader(csvfile)       \n",
        "    for row in csvreader:\n",
        "      numpoints=numpoints+1\n",
        "      result = 0\n",
        "      numrows = len(row[:-1])\n",
        "      for elem in row[:-1]:\n",
        "        result = result + float(elem) \n",
        "      c = row[-1]\n",
        "      if (rounding!=-1):\n",
        "        result=int(result*math.pow(10,rounding))/math.pow(10,rounding)\n",
        "      energies=energies+[(result, c)]\n",
        "    sortedenergies=sorted(energies, key=lambda x: x[0])\n",
        "    curclass=sortedenergies[0][1]\n",
        "    changes=0\n",
        "\n",
        "    for item in sortedenergies:\n",
        "      if (item[1]!=curclass):\n",
        "        changes=changes+1\n",
        "        curclass=item[1]\n",
        "\n",
        "    clusters=changes+1\n",
        "    mincuts=math.ceil(math.log(clusters)/math.log(2))\n",
        "    capacity=mincuts*numrows\n",
        "    max_cap = (changes*(numrows+1))+changes\n",
        "    exp_cap = int(math.ceil(capacity))\n",
        "    return max_cap, exp_cap, ds_name, numrows\n",
        "\n",
        "# path_imgNet = pjoin(DATASET_ROOT, \"imagenet2000.csv\")\n",
        "# a, b, c, d = csv_cap_est(path_imgNet, \"imageNet2000\")\n",
        "# print(a, b, d, c)"
      ],
      "execution_count": null,
      "outputs": []
    },
    {
      "cell_type": "code",
      "metadata": {
        "id": "FCGHFAjlPpYQ",
        "colab_type": "code",
        "colab": {}
      },
      "source": [
        "def img_cap_est(X, Y, shape, ds_name):\n",
        "  energies=[]\n",
        "  capacity=0\n",
        "  rounding=-1\n",
        "  numpoints=0\n",
        "  numrows = 1\n",
        "\n",
        "  for d in shape:\n",
        "    numrows *= d\n",
        "\n",
        "  for img, label in zip(X, Y):\n",
        "    numpoints=numpoints+1\n",
        "    result = 0\n",
        "    result = np.sum([img.flatten() for features in img])\n",
        "    if (rounding!=-1):\n",
        "      result=int(result*math.pow(10,rounding))/math.pow(10,rounding)\n",
        "    energies=energies+[(result, label)]   \n",
        "  \n",
        "  sortedenergies=sorted(energies, key=lambda x: x[0]) #number of different class labels (相邻) based on L1 norm calculation\n",
        "  curclass=sortedenergies[0][1] \n",
        "  changes=0\n",
        "\n",
        "  for item in sortedenergies:\n",
        "    if (item[1]!=curclass):\n",
        "      changes=changes+1\n",
        "      curclass=item[1]\n",
        "\n",
        "  clusters=changes+1\n",
        "  mincuts=math.ceil(math.log(clusters)/math.log(2))\n",
        "  capacity=mincuts*numrows\n",
        "  max_cap = (changes*(numrows+1))+changes\n",
        "  exp_cap = int(math.ceil(capacity))\n",
        "  return max_cap, exp_cap, ds_name, numrows"
      ],
      "execution_count": null,
      "outputs": []
    },
    {
      "cell_type": "markdown",
      "metadata": {
        "id": "SltC7faqlHdE",
        "colab_type": "text"
      },
      "source": [
        "## Calculation dataset capacity using the heuristic method"
      ]
    },
    {
      "cell_type": "code",
      "metadata": {
        "id": "68-TmtiuA0mK",
        "colab_type": "code",
        "colab": {
          "base_uri": "https://localhost:8080/",
          "height": 357
        },
        "outputId": "1184d369-6f5a-46bb-82ca-052ccdb42bc5"
      },
      "source": [
        "#100 for each class(10 classes), totally 500 images\n",
        "max_cap, exp_cap, ds_name, d = img_cap_est(x_train_small_mnist, y_train_small_mnist, (28,28), \"mnist\")\n",
        "input_dim.append(d)\n",
        "est_caps.append(exp_cap)\n",
        "print(\"-------------- Multiple Classes --------------\")\n",
        "print(\"----------------- MNIST ----------------------\")\n",
        "print(\"The input dimensionality: \", d)\n",
        "print(\"Max capacity need: \", max_cap, \"bits\")\n",
        "print(\"Estimated capacity need: \", np.round(exp_cap,3),\"bits\")\n",
        "print(\"--------------------------------------------\")\n",
        "print()\n",
        "\n",
        "max_cap, exp_cap, ds_name, d = img_cap_est(x_train_small_cifar10, y_train_small_cifar10, (32,32,3), \"cifar10\")\n",
        "input_dim.append(d)\n",
        "est_caps.append(exp_cap)\n",
        "print(\"----------------- CIFAR10 ---------------------\")\n",
        "print(\"The input dimensionality: \", d)\n",
        "print(\"Max capacity need: \", max_cap, \"bits\")\n",
        "print(\"Estimated capacity need: \", np.round(exp_cap,3),\"bits\")\n",
        "print(\"--------------------------------------------\")\n",
        "print()\n",
        "\n",
        "#binary classification\n",
        "max_cap, exp_cap, ds_name, d = img_cap_est(x_train_small_seefood, y_train_small_seefood, (32,32,3), \"seefood\")\n",
        "input_dim.append(d)\n",
        "est_caps.append(exp_cap)\n",
        "print(\"-------------- Binary Classes --------------\")\n",
        "print(\"----------------- SEEFOOD ------------------\")\n",
        "print(\"The input dimensionality: \", d)\n",
        "print(\"Max capacity need: \", max_cap, \"bits\")\n",
        "print(\"Estimated capacity need: \", np.round(exp_cap,3),\"bits\")\n",
        "print(\"--------------------------------------------\")\n",
        "print()\n",
        "\n",
        "# max_cap, exp_cap, ds_name, d = img_cap_est(x_train_small_inria, y_train_small_inria, (32,32,3), \"inria\")\n",
        "# input_dim.append(d)\n",
        "# est_caps.append(exp_cap)\n",
        "# print(\"----------------- INRIA ---------------------\")\n",
        "# print(\"The input dimensionality: \", d)\n",
        "# print(\"Max capacity need: \", max_cap, \"bits\")\n",
        "# print(\"Estimated capacity need: \", np.round(exp_cap,3),\"bits\")\n",
        "# print(\"--------------------------------------------\")\n",
        "# print()\n"
      ],
      "execution_count": null,
      "outputs": [
        {
          "output_type": "stream",
          "text": [
            "-------------- Multiple Classes --------------\n",
            "----------------- MNIST ----------------------\n",
            "The input dimensionality:  784\n",
            "Max capacity need:  659454 bits\n",
            "Estimated capacity need:  7840 bits\n",
            "--------------------------------------------\n",
            "\n",
            "----------------- CIFAR10 ---------------------\n",
            "The input dimensionality:  3072\n",
            "Max capacity need:  2745082 bits\n",
            "Estimated capacity need:  30720 bits\n",
            "--------------------------------------------\n",
            "\n",
            "-------------- Binary Classes --------------\n",
            "----------------- SEEFOOD ------------------\n",
            "The input dimensionality:  3072\n",
            "Max capacity need:  307400 bits\n",
            "Estimated capacity need:  21504 bits\n",
            "--------------------------------------------\n",
            "\n"
          ],
          "name": "stdout"
        }
      ]
    },
    {
      "cell_type": "code",
      "metadata": {
        "id": "zVgpgKrKnU6i",
        "colab_type": "code",
        "colab": {
          "base_uri": "https://localhost:8080/",
          "height": 425
        },
        "outputId": "9fb681f8-7f96-441a-b39e-4b687b052afe"
      },
      "source": [
        "max_cap, exp_cap, ds_name, d = csv_cap_est(path_circle, \"circle_100\")\n",
        "input_dim.append(d)\n",
        "est_caps.append(exp_cap)\n",
        "print(\"----------------- CIRCLE ------------------\")\n",
        "print(\"The input dimensionality: \", d)\n",
        "print(\"Max capacity need: \", max_cap, \"bits\")\n",
        "print(\"Estimated capacity need: \", np.round(exp_cap,3),\"bits\")\n",
        "print(\"--------------------------------------------\")\n",
        "print()\n",
        "\n",
        "max_cap, exp_cap, ds_name, d = csv_cap_est(path_spiral, \"spiral_100\")\n",
        "input_dim.append(d)\n",
        "est_caps.append(exp_cap)\n",
        "print(\"----------------- SPIRAL ------------------\")\n",
        "print(\"The input dimensionality: \", d)\n",
        "print(\"Max capacity need: \", max_cap, \"bits\")\n",
        "print(\"Estimated capacity need: \", np.round(exp_cap,3),\"bits\")\n",
        "print(\"--------------------------------------------\")\n",
        "print()\n",
        "\n",
        "max_cap, exp_cap, ds_name, d = csv_cap_est(path_gauss, \"gauss_100\")\n",
        "input_dim.append(d)\n",
        "est_caps.append(exp_cap)\n",
        "print(\"----------------- GAUSS ------------------\")\n",
        "print(\"The input dimensionality: \", d)\n",
        "print(\"Max capacity need: \", max_cap, \"bits\")\n",
        "print(\"Estimated capacity need: \", np.round(exp_cap,3),\"bits\")\n",
        "print(\"--------------------------------------------\")\n",
        "print()\n",
        "\n",
        "max_cap, exp_cap, ds_name, d = csv_cap_est(path_xor, \"xor_100\")\n",
        "input_dim.append(d)\n",
        "est_caps.append(exp_cap)\n",
        "print(\"----------------- XOR ------------------\")\n",
        "print(\"The input dimensionality: \", d)\n",
        "print(\"Max capacity need: \", max_cap, \"bits\")\n",
        "print(\"Estimated capacity need: \", np.round(exp_cap,3),\"bits\")\n",
        "print(\"--------------------------------------------\")\n",
        "print()"
      ],
      "execution_count": null,
      "outputs": [
        {
          "output_type": "stream",
          "text": [
            "----------------- CIRCLE ------------------\n",
            "The input dimensionality:  2\n",
            "Max capacity need:  120 bits\n",
            "Estimated capacity need:  10 bits\n",
            "--------------------------------------------\n",
            "\n",
            "----------------- SPIRAL ------------------\n",
            "The input dimensionality:  2\n",
            "Max capacity need:  156 bits\n",
            "Estimated capacity need:  12 bits\n",
            "--------------------------------------------\n",
            "\n",
            "----------------- GAUSS ------------------\n",
            "The input dimensionality:  2\n",
            "Max capacity need:  4 bits\n",
            "Estimated capacity need:  2 bits\n",
            "--------------------------------------------\n",
            "\n",
            "----------------- XOR ------------------\n",
            "The input dimensionality:  2\n",
            "Max capacity need:  104 bits\n",
            "Estimated capacity need:  10 bits\n",
            "--------------------------------------------\n",
            "\n"
          ],
          "name": "stdout"
        }
      ]
    },
    {
      "cell_type": "code",
      "metadata": {
        "id": "sBzYvRfPJEDg",
        "colab_type": "code",
        "colab": {
          "base_uri": "https://localhost:8080/",
          "height": 102
        },
        "outputId": "b30fae57-0fe1-41b6-b061-249bbae29bfc"
      },
      "source": [
        "max_cap, exp_cap, ds_name, d = csv_cap_est(path_moon, \"moon\")\n",
        "input_dim.append(d)\n",
        "est_caps.append(exp_cap)\n",
        "print(\"----------------- MOON ------------------\")\n",
        "print(\"The input dimensionality: \", d)\n",
        "print(\"Max capacity need: \", max_cap, \"bits\")\n",
        "print(\"Estimated capacity need: \", np.round(exp_cap,3),\"bits\")\n",
        "print(\"--------------------------------------------\")\n"
      ],
      "execution_count": null,
      "outputs": [
        {
          "output_type": "stream",
          "text": [
            "----------------- MOON ------------------\n",
            "The input dimensionality:  2\n",
            "Max capacity need:  124 bits\n",
            "Estimated capacity need:  10 bits\n",
            "--------------------------------------------\n"
          ],
          "name": "stdout"
        }
      ]
    },
    {
      "cell_type": "markdown",
      "metadata": {
        "id": "jzoEdXWLOI2P",
        "colab_type": "text"
      },
      "source": [
        "# Final Results"
      ]
    },
    {
      "cell_type": "code",
      "metadata": {
        "id": "W0nC071rnUAL",
        "colab_type": "code",
        "colab": {
          "base_uri": "https://localhost:8080/",
          "height": 328
        },
        "outputId": "f6b7218a-de21-4bbf-ec59-f6c6a89e9662"
      },
      "source": [
        "d = {\"Input Dimension\": input_dim, \"Dataset\": ds, \"GSC Scores\": GSC_scores, \"Expected capcacity\": est_caps}\n",
        "df = pd.DataFrame(data = d)\n",
        "df.set_index(\"Dataset\").sort_values(by = \"GSC Scores\", ascending = False)"
      ],
      "execution_count": null,
      "outputs": [
        {
          "output_type": "execute_result",
          "data": {
            "text/html": [
              "<div>\n",
              "<style scoped>\n",
              "    .dataframe tbody tr th:only-of-type {\n",
              "        vertical-align: middle;\n",
              "    }\n",
              "\n",
              "    .dataframe tbody tr th {\n",
              "        vertical-align: top;\n",
              "    }\n",
              "\n",
              "    .dataframe thead th {\n",
              "        text-align: right;\n",
              "    }\n",
              "</style>\n",
              "<table border=\"1\" class=\"dataframe\">\n",
              "  <thead>\n",
              "    <tr style=\"text-align: right;\">\n",
              "      <th></th>\n",
              "      <th>Input Dimension</th>\n",
              "      <th>GSC Scores</th>\n",
              "      <th>Expected capcacity</th>\n",
              "    </tr>\n",
              "    <tr>\n",
              "      <th>Dataset</th>\n",
              "      <th></th>\n",
              "      <th></th>\n",
              "      <th></th>\n",
              "    </tr>\n",
              "  </thead>\n",
              "  <tbody>\n",
              "    <tr>\n",
              "      <th>cifar10</th>\n",
              "      <td>3072</td>\n",
              "      <td>1.396110</td>\n",
              "      <td>30720</td>\n",
              "    </tr>\n",
              "    <tr>\n",
              "      <th>seefood</th>\n",
              "      <td>3072</td>\n",
              "      <td>0.660000</td>\n",
              "      <td>21504</td>\n",
              "    </tr>\n",
              "    <tr>\n",
              "      <th>spiral</th>\n",
              "      <td>2</td>\n",
              "      <td>0.431186</td>\n",
              "      <td>12</td>\n",
              "    </tr>\n",
              "    <tr>\n",
              "      <th>mnist</th>\n",
              "      <td>784</td>\n",
              "      <td>0.427750</td>\n",
              "      <td>7840</td>\n",
              "    </tr>\n",
              "    <tr>\n",
              "      <th>xor</th>\n",
              "      <td>2</td>\n",
              "      <td>0.006088</td>\n",
              "      <td>10</td>\n",
              "    </tr>\n",
              "    <tr>\n",
              "      <th>circle</th>\n",
              "      <td>2</td>\n",
              "      <td>0.000000</td>\n",
              "      <td>10</td>\n",
              "    </tr>\n",
              "    <tr>\n",
              "      <th>gauss</th>\n",
              "      <td>2</td>\n",
              "      <td>0.000000</td>\n",
              "      <td>2</td>\n",
              "    </tr>\n",
              "    <tr>\n",
              "      <th>moon</th>\n",
              "      <td>2</td>\n",
              "      <td>0.000000</td>\n",
              "      <td>10</td>\n",
              "    </tr>\n",
              "  </tbody>\n",
              "</table>\n",
              "</div>"
            ],
            "text/plain": [
              "         Input Dimension  GSC Scores  Expected capcacity\n",
              "Dataset                                                 \n",
              "cifar10             3072    1.396110               30720\n",
              "seefood             3072    0.660000               21504\n",
              "spiral                 2    0.431186                  12\n",
              "mnist                784    0.427750                7840\n",
              "xor                    2    0.006088                  10\n",
              "circle                 2    0.000000                  10\n",
              "gauss                  2    0.000000                   2\n",
              "moon                   2    0.000000                  10"
            ]
          },
          "metadata": {
            "tags": []
          },
          "execution_count": 35
        }
      ]
    },
    {
      "cell_type": "markdown",
      "metadata": {
        "id": "TXXVM4I3OEN5",
        "colab_type": "text"
      },
      "source": [
        "# Graph"
      ]
    },
    {
      "cell_type": "code",
      "metadata": {
        "id": "axqFpQhqOCev",
        "colab_type": "code",
        "colab": {}
      },
      "source": [
        "import matplotlib.pyplot as plt\n",
        "from matplotlib.ticker import NullFormatter\n",
        "%matplotlib inline\n",
        "\n",
        "def graph(X, y, title):\n",
        "  blue = y == 0\n",
        "  orange = y == 1\n",
        "  fig, ax = plt.subplots(figsize = (10, 8))\n",
        "  # ax.set_aspect(1.0)\n",
        "  ax.scatter(X[blue, 0], X[blue, 1], c=\"#377eb8\")\n",
        "  ax.scatter(X[orange, 0], X[orange, 1], c=\"#ff7f00\")\n",
        "  ax.xaxis.set_major_formatter(NullFormatter())\n",
        "  ax.yaxis.set_major_formatter(NullFormatter())\n",
        "  ax.set_xlabel('feature_1')\n",
        "  ax.set_ylabel('feature_2')\n",
        "  ax.set_title(title)\n",
        "  plt.show()"
      ],
      "execution_count": null,
      "outputs": []
    },
    {
      "cell_type": "code",
      "metadata": {
        "id": "csHyngZe0lT9",
        "colab_type": "code",
        "colab": {
          "base_uri": "https://localhost:8080/",
          "height": 1000
        },
        "outputId": "7a625d64-00bc-42ec-fd4e-976417beaff9"
      },
      "source": [
        "graph(x_train_circle, y_train_circle, \"Circle\")\n",
        "graph(x_train_spiral, y_train_spiral, \"Spiral\")\n",
        "graph(x_train_xor, y_train_xor, \"XOR\")\n",
        "graph(x_train_gauss, y_train_gauss, \"Gauss\")\n",
        "graph(x_train_moon, y_train_moon, \"Moon\")"
      ],
      "execution_count": null,
      "outputs": [
        {
          "output_type": "display_data",
          "data": {
            "image/png": "[encoded data removed]",
            "text/plain": [
              "<Figure size 720x576 with 1 Axes>"
            ]
          },
          "metadata": {
            "tags": [],
            "needs_background": "light"
          }
        },
        {
          "output_type": "display_data",
          "data": {
            "image/png": "[encoded data removed]",
            "text/plain": [
              "<Figure size 720x576 with 1 Axes>"
            ]
          },
          "metadata": {
            "tags": [],
            "needs_background": "light"
          }
        },
        {
          "output_type": "display_data",
          "data": {
            "image/png": "[encoded data removed]",
            "text/plain": [
              "<Figure size 720x576 with 1 Axes>"
            ]
          },
          "metadata": {
            "tags": [],
            "needs_background": "light"
          }
        },
        {
          "output_type": "display_data",
          "data": {
            "image/png": "[encoded data removed]",
            "text/plain": [
              "<Figure size 720x576 with 1 Axes>"
            ]
          },
          "metadata": {
            "tags": [],
            "needs_background": "light"
          }
        },
        {
          "output_type": "display_data",
          "data": {
            "image/png": "[encoded data removed]",
            "text/plain": [
              "<Figure size 720x576 with 1 Axes>"
            ]
          },
          "metadata": {
            "tags": [],
            "needs_background": "light"
          }
        }
      ]
    },
    {
      "cell_type": "markdown",
      "metadata": {
        "id": "w6wksuMhL_hR",
        "colab_type": "text"
      },
      "source": [
        "# Eigenvalues\n",
        "There are ten eigenvalue for the cifar-10 due to its total classes is 10. \n",
        "The more entangled the classes are, the larger the eigenvalues are.\n",
        "--> The higher the value is, it takes more effort to classify the class among other classes(more difficult task)"
      ]
    },
    {
      "cell_type": "code",
      "metadata": {
        "id": "iAnTFLuNL-u_",
        "colab_type": "code",
        "colab": {}
      },
      "source": [
        "print(\"Eigenvalues of CIFAR-10\")\n",
        "print(estimator_cifar10.evals)"
      ],
      "execution_count": null,
      "outputs": []
    },
    {
      "cell_type": "code",
      "metadata": {
        "id": "hiJtvooZNHCs",
        "colab_type": "code",
        "colab": {}
      },
      "source": [
        "print(\"Eigenvalues of Spiral\")\n",
        "print(estimator_spiral.evals)"
      ],
      "execution_count": null,
      "outputs": []
    },
    {
      "cell_type": "code",
      "metadata": {
        "id": "tpKTbCRQN7m1",
        "colab_type": "code",
        "colab": {}
      },
      "source": [
        "print(\"Eigenvalues of Circle\")\n",
        "print(estimator_circle.evals)"
      ],
      "execution_count": null,
      "outputs": []
    },
    {
      "cell_type": "markdown",
      "metadata": {
        "id": "5Nsua7MLKuHz",
        "colab_type": "text"
      },
      "source": [
        "Paper: \"How Complex is your classification problem? A survey on measuring classification complexity\"\n",
        "--> This paper surveys and analyzes measures which can be extracted from the training datasets in order to characterize the complexity of the respective classification problems.\n",
        "\n",
        "\n",
        "Characteristics extracted from the trainning datasets of classification problems is very crucial in determining the generalization ability of a neural network.\n",
        "\n",
        "Measures of classification complexity can be used to estimate the difficulty in separating the data points into their expected classes.\n",
        "\n",
        "According to Ho and Basu [2002], the complexity of a classification problem can be attributed to a combination of three main factors: \n",
        "(i) the ambiguity of the classes; The ambiguity of the classes is present in scenarios in which the classes can not be distinguished using the data provided, regardless of the classification algorithm employed. i.e poorly defined concepts & the use of non-discriminative data features.\n",
        "\n",
        "(ii) the sparsity and dimensionality of the data; \n",
        "\n",
        "(iii) the complexity of the boundary separating the classes.\n",
        "\n",
        "\n",
        "The complexity of classification boundary is related to the size of the smallest description needed to represent the classes and is native of the problem itself [Macià, 2011]. Using the Kolmogorov complexity concept [Ming and Vitanyi, 1993], the complexity of a classification problem can be measured by the size of the smallest algorithm which is able to describe the relationships between the data [Ling and Abu-Mostafa, 2006].\n",
        "\n"
      ]
    },
    {
      "cell_type": "markdown",
      "metadata": {
        "id": "brLDdvU5Ym8h",
        "colab_type": "text"
      },
      "source": [
        "# Generate Dataset\n",
        "*make_circles* and *make_moons* generate 2d binary classification datasets, including optional Gaussian noise.\n",
        "\n",
        "*make_circles* produces Gaussian data with a spherical decision boundary for binary classification, while *make_moons* produces two interleaving half circles."
      ]
    },
    {
      "cell_type": "code",
      "metadata": {
        "id": "WeQi5wYscPXv",
        "colab_type": "code",
        "colab": {}
      },
      "source": [
        "import numpy as np\n",
        "import pandas as pd\n",
        "\n",
        "import seaborn as sns\n",
        "from sklearn.datasets import make_moons, make_blobs, make_circles\n",
        "import math"
      ],
      "execution_count": null,
      "outputs": []
    },
    {
      "cell_type": "code",
      "metadata": {
        "id": "ZdbilKINM3il",
        "colab_type": "code",
        "colab": {}
      },
      "source": [
        "def generateDatasetMoons(n_samples, noise):\n",
        "  X, y = make_moons(n_samples, noise)\n",
        "  df = pd.DataFrame(X, columns=[\"feature_1\", \"feature_2\"])\n",
        "  df[\"label\"] = y\n",
        "  return X, y\n",
        "\n",
        "def generateDatasetCircle(n_samples, factor, noise):\n",
        "  X, y = make_circles(n_samples, factor, noise) \n",
        "  df = pd.DataFrame(X, columns=[\"feature_1\", \"feature_2\"])\n",
        "  df[\"label\"] = y\n",
        "  return X, y"
      ],
      "execution_count": null,
      "outputs": []
    },
    {
      "cell_type": "code",
      "metadata": {
        "id": "r5cUs4tEIaxP",
        "colab_type": "code",
        "colab": {}
      },
      "source": [
        "n_samples = 500\n",
        "factor = 0.5\n",
        "noise = 0.05\n",
        "X_circle, y_circle = generateDatasetCircle(n_samples=n_samples, factor=.8, noise=.05)\n",
        "X_moons, y_moons = generateDatasetMoons(n_samples, noise)\n",
        "\n",
        "def graph(X,y):\n",
        "  red = y == 0\n",
        "  green = y == 1\n",
        "  fig, ax = plt.subplots(figsize = (10, 8))\n",
        "  ax.scatter(X[red, 0], X[red, 1], c=\"#377eb8\")\n",
        "  ax.scatter(X[green, 0], X[green, 1], c=\"#ff7f00\")\n",
        "  ax.xaxis.set_major_formatter(NullFormatter())\n",
        "  ax.yaxis.set_major_formatter(NullFormatter())\n",
        "  ax.set_xlabel('feature_1')\n",
        "  ax.set_ylabel('feature_2')\n",
        "  plt.show()"
      ],
      "execution_count": null,
      "outputs": []
    },
    {
      "cell_type": "code",
      "metadata": {
        "id": "6hotSW-YxFmp",
        "colab_type": "code",
        "colab": {}
      },
      "source": [
        "import random\n",
        "def dSNR(x):\n",
        "  return 1 / math.pow(10, x / 10)\n",
        "\n",
        "def randUniform(a, b):\n",
        "\treturn random.random() * (b - a) + a\n",
        "\n",
        "def normalRandom(mean = 0, variance = 1): \n",
        "  v1 = 0\n",
        "  v2 = 0\n",
        "  s = 0\n",
        "  while True:\n",
        "    v1 = 2 * random.random() - 1\n",
        "    v2 = 2 * random.random() - 1\n",
        "    s = v1 * v1 + v2 * v2\n",
        "    if s <= 1:\n",
        "      break\n",
        "  result = math.sqrt(-2 * math.log(s) / s) * v1\n",
        "  return mean + math.sqrt(variance) * result\n",
        "\n",
        "def classifyXORData(n_samples, noise):\n",
        "  dNoise = dSNR(noise)\n",
        "  stdSignal = 5\n",
        "  X = []\n",
        "  y = []\n",
        "  for i in range(n_samples):\n",
        "    x1 = randUniform(-stdSignal, stdSignal)\n",
        "    padding = 0.3\n",
        "    if x1 > 0:\n",
        "      x1 += padding\n",
        "    else:\n",
        "      x1 -= padding\n",
        "\n",
        "    x2 = randUniform(-stdSignal, stdSignal);\n",
        "    if x2 > 0:\n",
        "      x2 += padding\n",
        "    else:\n",
        "      x2 -= padding\n",
        "\n",
        "    varianceSignal = stdSignal * stdSignal\n",
        "    noiseX = normalRandom(0, varianceSignal * dNoise)\n",
        "    noiseY = normalRandom(0, varianceSignal * dNoise)\n",
        "    if (x1 + noiseX) * (x2 + noiseY) >= 0:\n",
        "      y.append(1)\n",
        "    else:\n",
        "      y.append(0)\n",
        "\n",
        "    X.append([noiseX, noiseY])\n",
        "  return X,y"
      ],
      "execution_count": null,
      "outputs": []
    },
    {
      "cell_type": "code",
      "metadata": {
        "id": "-8NJxfTgyJhU",
        "colab_type": "code",
        "colab": {}
      },
      "source": [
        "X_Xor, y_Xor = classifyXORData(n_samples, 0.05)"
      ],
      "execution_count": null,
      "outputs": []
    },
    {
      "cell_type": "code",
      "metadata": {
        "id": "saxFpM2H250x",
        "colab_type": "code",
        "colab": {}
      },
      "source": [
        "#graph(np.asarray(X_Xor), np.asarray(y_Xor))"
      ],
      "execution_count": null,
      "outputs": []
    },
    {
      "cell_type": "code",
      "metadata": {
        "id": "2pQxoMjSxEwd",
        "colab_type": "code",
        "colab": {}
      },
      "source": [
        "#graph(X_circle,y_circle)"
      ],
      "execution_count": null,
      "outputs": []
    },
    {
      "cell_type": "code",
      "metadata": {
        "id": "PAPs5xS5lNUb",
        "colab_type": "code",
        "colab": {}
      },
      "source": [
        "graph(X_moons, y_moons)"
      ],
      "execution_count": null,
      "outputs": []
    },
    {
      "cell_type": "code",
      "metadata": {
        "id": "pEOhQ2Nyy1nF",
        "colab_type": "code",
        "colab": {}
      },
      "source": [
        ""
      ],
      "execution_count": null,
      "outputs": []
    }
  ]
}