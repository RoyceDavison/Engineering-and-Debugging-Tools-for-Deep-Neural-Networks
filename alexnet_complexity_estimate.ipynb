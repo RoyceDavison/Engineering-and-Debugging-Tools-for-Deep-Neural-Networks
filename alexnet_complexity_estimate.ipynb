{
 "cells": [
  {
   "cell_type": "code",
   "execution_count": 87,
   "metadata": {},
   "outputs": [],
   "source": [
    "import numpy as np\n",
    "# dict parameters:\n",
    "# filters: number of filters\n",
    "# kernel_size: the size of the kernel at the current level\n",
    "# stride\n",
    "\n",
    "parameters_piazza = {\"conv1\":{\"filters\": 96, \"kernel_size\":[11,11], \"stride\":4},\n",
    "         \"pool_1\":{\"pool_size\":[3,3], \"stride\":2},\n",
    "         \"conv2\": {\"filters\":256, \"kernel_size\":[3,3]},\n",
    "         \"pool_2\":{\"pool_size\":[3,3], \"stride\":2},\n",
    "         \"conv3\":{\"filters\":384, \"kernel_size\":[3,3]},\n",
    "         \"conv4\":{\"filters\":384, \"kernel_size\":[3,3]},\n",
    "         \"conv5\":{\"filters\":256, \"kernel_size\":[3,3]},\n",
    "         \"pool_5\":{\"pool_size\":[3,3], \"stride\":2},    \n",
    "         \"fc1\":{\"filters\":4096, \"kernel_size\":[1,1]},\n",
    "         \"fc2\":{\"filters\":4096, \"kernel_size\":[1,1]}\n",
    "        }\n",
    "\n",
    "def find_parameters(conv2_f, conv3_f, conv4_f, conv5_f):\n",
    "    dic = {\"conv1\":{\"filters\": 64, \"kernel_size\":[11,11], \"stride\":4},\n",
    "         \"pool_1\":{\"pool_size\":[3,3], \"stride\":2},\n",
    "         \"conv2\": {\"filters\":conv2_f, \"kernel_size\":[5,5]},\n",
    "         \"pool_2\":{\"pool_size\":[3,3], \"stride\":2},\n",
    "         \"conv3\":{\"filters\":conv3_f, \"kernel_size\":[3,3]},\n",
    "         \"conv4\":{\"filters\":conv4_f, \"kernel_size\":[3,3]},\n",
    "         \"conv5\":{\"filters\":conv5_f, \"kernel_size\":[3,3]},\n",
    "         \"pool_5\":{\"pool_size\":[3,3], \"stride\":2},\n",
    "         \"fc1\":{\"filters\":4096, \"kernel_size\":[5,5]},\n",
    "         \"fc2\":{\"filters\":4096, \"kernel_size\":[1,1]}\n",
    "        }\n",
    "    return dic\n",
    "\n",
    "alexnet_1 = find_parameters(400, 525, 525, 412)\n",
    "alexnet_2 = find_parameters(200, 400, 400, 256)\n",
    "alexnet_3 = find_parameters(192, 384, 384, 256)\n",
    "alexnet_4 = find_parameters(100, 225, 225, 112)\n",
    "alexnet_5 = find_parameters(80, 125, 125, 100)"
   ]
  },
  {
   "cell_type": "code",
   "execution_count": 100,
   "metadata": {},
   "outputs": [],
   "source": [
    "def EMC(conv_layers, fully_connected_layer, parms):\n",
    "    d = 3\n",
    "    data_x = 224\n",
    "    pool_d = (data_x - parms[\"conv1\"][\"kernel_size\"][0])//parms[\"conv1\"][\"stride\"] + 1\n",
    "    total = 0\n",
    "    pool_complexity = float('inf')\n",
    "    cur_complexity = float('inf')\n",
    "    \n",
    "    for cur in range(conv_layers):\n",
    "        conv_key = \"conv\"+str(cur+1)\n",
    "        pool_key = \"pool_\"+str(cur+1)\n",
    "        kernels = parms[conv_key][\"filters\"]\n",
    "        #(kernel)*(d)*(kernel_size)+bias\n",
    "        kernel_size = parms[conv_key][\"kernel_size\"]\n",
    "        conv_complexity = kernels * d * np.prod(kernel_size) + kernels\n",
    "        d = kernels\n",
    "        total += min(conv_complexity, pool_complexity)\n",
    "                \n",
    "        if pool_key in parms.keys():\n",
    "            pool_kernel = parms[pool_key][\"pool_size\"][0]\n",
    "            pool_stride = parms[pool_key][\"stride\"]\n",
    "            pool_d = (pool_d - pool_kernel)//pool_stride + 1\n",
    "            pool_complexity = kernels * pool_d * pool_d\n",
    "            #print(kernels)\n",
    "            #print(pool_d)\n",
    "        cur_complexity = min(conv_complexity, pool_complexity)\n",
    "\n",
    "    for fc in range(fully_connected_layer):\n",
    "        fc_key = \"fc\"+str(fc+1)\n",
    "        filters = parms[fc_key][\"filters\"]\n",
    "        kernels_size = np.prod(parms[fc_key][\"kernel_size\"])\n",
    "        # when fc = 1, cur_compleixty -> one layer before the fully connected layer\n",
    "        k = min(filters * filters * kernels_size + filters, cur_complexity)\n",
    "        total += k\n",
    "        cur_complexity = min(filters, k)\n",
    "        \n",
    "    return \"The capacity upperbound of the AlexNet: \" + str(total) + \" bits.\"  "
   ]
  },
  {
   "cell_type": "code",
   "execution_count": 106,
   "metadata": {},
   "outputs": [],
   "source": [
    "conv_layers = 5\n",
    "fully_connected_layer = 2"
   ]
  },
  {
   "cell_type": "code",
   "execution_count": 101,
   "metadata": {},
   "outputs": [
    {
     "data": {
      "text/plain": [
       "'The capacity upperbound of the AlexNet: 253756 bits.'"
      ]
     },
     "execution_count": 101,
     "metadata": {},
     "output_type": "execute_result"
    }
   ],
   "source": [
    "EMC(conv_layers, fully_connected_layer, alexnet_1)"
   ]
  },
  {
   "cell_type": "code",
   "execution_count": 102,
   "metadata": {},
   "outputs": [
    {
     "data": {
      "text/plain": [
       "'The capacity upperbound of the AlexNet: 163456 bits.'"
      ]
     },
     "execution_count": 102,
     "metadata": {},
     "output_type": "execute_result"
    }
   ],
   "source": [
    "EMC(conv_layers, fully_connected_layer, alexnet_2)"
   ]
  },
  {
   "cell_type": "code",
   "execution_count": 103,
   "metadata": {},
   "outputs": [
    {
     "data": {
      "text/plain": [
       "'The capacity upperbound of the AlexNet: 160000 bits.'"
      ]
     },
     "execution_count": 103,
     "metadata": {},
     "output_type": "execute_result"
    }
   ],
   "source": [
    "EMC(conv_layers, fully_connected_layer, alexnet_3)"
   ]
  },
  {
   "cell_type": "code",
   "execution_count": 104,
   "metadata": {},
   "outputs": [
    {
     "data": {
      "text/plain": [
       "'The capacity upperbound of the AlexNet: 115360 bits.'"
      ]
     },
     "execution_count": 104,
     "metadata": {},
     "output_type": "execute_result"
    }
   ],
   "source": [
    "EMC(conv_layers, fully_connected_layer, alexnet_4)"
   ]
  },
  {
   "cell_type": "code",
   "execution_count": 105,
   "metadata": {},
   "outputs": [
    {
     "data": {
      "text/plain": [
       "'The capacity upperbound of the AlexNet: 106120 bits.'"
      ]
     },
     "execution_count": 105,
     "metadata": {},
     "output_type": "execute_result"
    }
   ],
   "source": [
    "EMC(conv_layers, fully_connected_layer, alexnet_5)"
   ]
  },
  {
   "cell_type": "code",
   "execution_count": null,
   "metadata": {},
   "outputs": [],
   "source": []
  }
 ],
 "metadata": {
  "kernelspec": {
   "display_name": "Python 3",
   "language": "python",
   "name": "python3"
  },
  "language_info": {
   "codemirror_mode": {
    "name": "ipython",
    "version": 3
   },
   "file_extension": ".py",
   "mimetype": "text/x-python",
   "name": "python",
   "nbconvert_exporter": "python",
   "pygments_lexer": "ipython3",
   "version": "3.7.5"
  }
 },
 "nbformat": 4,
 "nbformat_minor": 2
}
