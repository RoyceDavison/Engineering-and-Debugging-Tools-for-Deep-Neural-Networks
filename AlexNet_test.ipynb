{
 "cells": [
  {
   "cell_type": "code",
   "execution_count": 1,
   "metadata": {},
   "outputs": [
    {
     "name": "stdout",
     "output_type": "stream",
     "text": [
      "WARNING:tensorflow:From /Users/zhekunluo/Desktop/294-82/Engineering-and-Debugging-Tools-for-Deep-Neural-Networks-/cleverhans/utils_tf.py:345: The name tf.GraphKeys is deprecated. Please use tf.compat.v1.GraphKeys instead.\n",
      "\n",
      "WARNING:tensorflow:\n",
      "The TensorFlow contrib module will not be included in TensorFlow 2.0.\n",
      "For more information, please see:\n",
      "  * https://github.com/tensorflow/community/blob/master/rfcs/20180907-contrib-sunset.md\n",
      "  * https://github.com/tensorflow/addons\n",
      "  * https://github.com/tensorflow/io (for I/O related ops)\n",
      "If you depend on functionality not listed there, please file an issue.\n",
      "\n"
     ]
    }
   ],
   "source": [
    "import os\n",
    "import sys\n",
    "import torch\n",
    "import torchvision\n",
    "import torchvision.transforms as transforms\n",
    "import matplotlib.pyplot as plt\n",
    "import numpy as np\n",
    "import torch.optim as optim\n",
    "import torchvision.utils as vutils\n",
    "\n",
    "from IPython.display import HTML\n",
    "import torchvision.datasets as dset\n",
    "\n",
    "import tensorflow as tf\n",
    "\n",
    "import models\n",
    "import models.research\n",
    "import models.research.slim\n",
    "import models.research.slim.nets as nets\n",
    "from cleverhans.model_zoo.resNet import ResNet\n",
    "from cleverhans.model_zoo.alexNet import AlexNet\n",
    "\n",
    "from torch.utils.data.sampler import SubsetRandomSampler"
   ]
  },
  {
   "cell_type": "code",
   "execution_count": 2,
   "metadata": {},
   "outputs": [
    {
     "name": "stdout",
     "output_type": "stream",
     "text": [
      "224\n",
      "224\n",
      "3\n"
     ]
    }
   ],
   "source": [
    "from cleverhans.dataset import MNIST\n",
    "\n",
    "from cleverhans.dataset import CIFAR10\n",
    "\n",
    "\n",
    "tf.reset_default_graph()\n",
    "\n",
    "tf.set_random_seed(1234)\n",
    "sess = tf.Session()\n",
    "\n",
    "train_start = 0\n",
    "train_end = 1000\n",
    "test_start = 1000\n",
    "test_end = 1200\n",
    "\n",
    "mnist = MNIST(train_start=train_start, train_end=train_end,\n",
    "                test_start=test_start, test_end=test_end)\n",
    "\n",
    "\n",
    "# mnist = CIFAR10(train_start=train_start, train_end=train_end,\n",
    "#                 test_start=test_start, test_end=test_end)\n",
    "x_train, y_train = mnist.get_set('train')\n",
    "x_test, y_test = mnist.get_set('test')\n",
    "\n",
    "\n",
    "x_train = tf.image.resize(images=x_train, size=(224,224))\n",
    "x_train = tf.image.grayscale_to_rgb(x_train)\n",
    "\n",
    "\n",
    "x_test = tf.image.resize(images=x_test, size=(224,224))\n",
    "x_test = tf.image.grayscale_to_rgb(x_test)\n",
    "\n",
    "\n",
    "x_train = sess.run(x_train)\n",
    "x_test = sess.run(x_test)\n",
    "\n",
    "img_rows, img_cols, nchannels = x_train.shape[1:4]\n",
    "print(img_rows)\n",
    "print(img_cols)\n",
    "print(nchannels)\n",
    "\n",
    "\n"
   ]
  },
  {
   "cell_type": "code",
   "execution_count": 3,
   "metadata": {},
   "outputs": [
    {
     "name": "stdout",
     "output_type": "stream",
     "text": [
      "hello\n",
      "(?, 224, 224, 3)\n",
      "WARNING:tensorflow:From /Users/zhekunluo/Desktop/294-82/Engineering-and-Debugging-Tools-for-Deep-Neural-Networks-/cleverhans/model_zoo/alexNet.py:66: The name tf.variable_scope is deprecated. Please use tf.compat.v1.variable_scope instead.\n",
      "\n",
      "WARNING:tensorflow:From /Users/zhekunluo/Desktop/294-82/Engineering-and-Debugging-Tools-for-Deep-Neural-Networks-/cleverhans/model_zoo/alexNet.py:66: The name tf.AUTO_REUSE is deprecated. Please use tf.compat.v1.AUTO_REUSE instead.\n",
      "\n",
      "WARNING:tensorflow:From //anaconda2/envs/CS294/lib/python3.6/site-packages/tensorflow_core/contrib/layers/python/layers/layers.py:1057: Layer.apply (from tensorflow.python.keras.engine.base_layer) is deprecated and will be removed in a future version.\n",
      "Instructions for updating:\n",
      "Please use `layer.__call__` method instead.\n",
      "WARNING:tensorflow:From /Users/zhekunluo/Desktop/294-82/Engineering-and-Debugging-Tools-for-Deep-Neural-Networks-/cleverhans/model.py:129: The name tf.get_collection is deprecated. Please use tf.compat.v1.get_collection instead.\n",
      "\n",
      "WARNING:tensorflow:From <ipython-input-3-28e18dafac19>:11: softmax_cross_entropy_with_logits (from tensorflow.python.ops.nn_ops) is deprecated and will be removed in a future version.\n",
      "Instructions for updating:\n",
      "\n",
      "Future major versions of TensorFlow will allow gradients to flow\n",
      "into the labels input on backprop by default.\n",
      "\n",
      "See `tf.nn.softmax_cross_entropy_with_logits_v2`.\n",
      "\n",
      "(1000, 224, 224, 3)\n",
      "(200, 224, 224, 3)\n",
      "(1000, 10)\n",
      "(200, 10)\n"
     ]
    }
   ],
   "source": [
    "optimizer = tf.train.AdamOptimizer(learning_rate=1e-4)\n",
    "\n",
    "x = tf.placeholder(tf.float32, shape=(None, 224, 224, 3))\n",
    "y = tf.placeholder(tf.float32, shape=(None, 2))\n",
    "\n",
    "nb_classes = 2 \n",
    "nb_filters = 64 \n",
    "model = AlexNet(scope = \"model1\", nb_classes = nb_classes, nb_filters = nb_filters)\n",
    "logits = model.get_logits(x)\n",
    "\n",
    "loss = tf.nn.softmax_cross_entropy_with_logits(logits=logits, labels=y)\n",
    "train_op = optimizer.minimize(loss)\n",
    "\n",
    "print(x_train.shape)\n",
    "print(x_test.shape)\n",
    "print(y_train.shape)\n",
    "print(y_test.shape)\n",
    "\n",
    "\n",
    "def get_one_hot(y):\n",
    "    data_num = y.shape[0]\n",
    "    \n",
    "    odd_Array = np.array([0,1,0,1,0,1,0,1,0,1])\n",
    "    odd_Matrix = np.repeat(odd_Array[ np.newaxis, :], data_num, axis=0)\n",
    "    \n",
    "    y_mul = odd_Matrix*y\n",
    "    odd = np.sum(y_mul, axis=1).astype(int)\n",
    "    \n",
    "    y_one_hot = np.zeros((data_num, 2))\n",
    "        \n",
    "    y_one_hot[np.arange(data_num), odd] = 1\n",
    "    return y_one_hot, odd\n",
    "    \n"
   ]
  },
  {
   "cell_type": "code",
   "execution_count": 4,
   "metadata": {},
   "outputs": [
    {
     "name": "stdout",
     "output_type": "stream",
     "text": [
      "(1000, 2)\n",
      "(200, 2)\n"
     ]
    }
   ],
   "source": [
    "\n",
    "y_train, _ = get_one_hot(y_train)\n",
    "y_test, _ = get_one_hot(y_test)\n",
    "\n",
    "print(y_train.shape)\n",
    "print(y_test.shape)\n",
    "\n",
    "init_op = tf.global_variables_initializer()\n",
    "sess.run(init_op)\n",
    "dataset_size=x_train.shape[0]"
   ]
  },
  {
   "cell_type": "code",
   "execution_count": 5,
   "metadata": {},
   "outputs": [
    {
     "name": "stdout",
     "output_type": "stream",
     "text": [
      "(1000, 224, 224, 3)\n",
      "0\n"
     ]
    }
   ],
   "source": [
    "epoch = 1\n",
    "batch_size = 64\n",
    "iter_num = dataset_size//batch_size\n",
    "\n",
    "\n",
    "print(x_train.shape)\n",
    "for n in range(epoch):\n",
    "    \n",
    "    print(n)\n",
    "    indices = list(range(dataset_size))\n",
    "    random_seed = n\n",
    "    np.random.seed(random_seed)\n",
    "    np.random.shuffle(indices)\n",
    "    for i in range(iter_num):\n",
    "        select = indices[i*batch_size:i*batch_size+batch_size]\n",
    "        x_batch = x_train[select]\n",
    "        y_batch = y_train[select]\n",
    "        sess.run(train_op, feed_dict={x: x_batch, y: y_batch})\n",
    "\n",
    "\n",
    "        \n",
    "        "
   ]
  },
  {
   "cell_type": "code",
   "execution_count": 6,
   "metadata": {},
   "outputs": [],
   "source": [
    "# saver = tf.train.Saver(max_to_keep=10, keep_checkpoint_every_n_hours=0.5)\n",
    "# saver.save(sess, 'res_50_model.ckpt')"
   ]
  },
  {
   "cell_type": "code",
   "execution_count": 7,
   "metadata": {},
   "outputs": [],
   "source": [
    "\n",
    "success = tf.equal(tf.argmax(logits, 1), tf.argmax(y, 1))\n",
    "# Calculate accuracy\n",
    "accuracy = tf.reduce_mean(tf.cast(success, \"float\"))\n"
   ]
  },
  {
   "cell_type": "code",
   "execution_count": 8,
   "metadata": {},
   "outputs": [
    {
     "name": "stdout",
     "output_type": "stream",
     "text": [
      "0.63\n"
     ]
    }
   ],
   "source": [
    "print(sess.run(accuracy, feed_dict={x: x_test, y: y_test}))"
   ]
  },
  {
   "cell_type": "code",
   "execution_count": 9,
   "metadata": {},
   "outputs": [],
   "source": [
    "from cleverhans.train import train\n",
    "from cleverhans.utils_tf import model_eval\n",
    "from cleverhans.attacks import CarliniWagnerL2\n",
    "from cleverhans.model_zoo.alexNet import AlexNet\n",
    "import os"
   ]
  },
  {
   "cell_type": "code",
   "execution_count": 11,
   "metadata": {},
   "outputs": [],
   "source": [
    "VIZ_ENABLED = True\n",
    "BATCH_SIZE = 128\n",
    "NB_EPOCHS = 6\n",
    "SOURCE_SAMPLES = 100\n",
    "LEARNING_RATE = .0001\n",
    "CW_LEARNING_RATE = .2\n",
    "ATTACK_ITERATIONS = 400\n",
    "MODEL_PATH = os.path.join('models', 'mnist')\n",
    "TARGETED = True\n",
    "source_samples = SOURCE_SAMPLES\n",
    "attack_iterations = ATTACK_ITERATIONS"
   ]
  },
  {
   "cell_type": "code",
   "execution_count": 12,
   "metadata": {},
   "outputs": [],
   "source": [
    "train_params = {\n",
    "  'nb_epochs': 1,\n",
    "  'batch_size': 128,\n",
    "  'learning_rate': 0.0001,\n",
    "  'filename': os.path.split(MODEL_PATH)[-1]\n",
    "}\n",
    "rng = np.random.RandomState([2017, 8, 30])"
   ]
  },
  {
   "cell_type": "code",
   "execution_count": 13,
   "metadata": {},
   "outputs": [
    {
     "name": "stderr",
     "output_type": "stream",
     "text": [
      "/Users/zhekunluo/Desktop/294-82/Engineering-and-Debugging-Tools-for-Deep-Neural-Networks-/cleverhans/attacks_tf.py:27: UserWarning: attacks_tf is deprecated and will be removed on 2019-07-18 or after. Code should import functions from their new locations directly.\n",
      "  warnings.warn(\"attacks_tf is deprecated and will be removed on 2019-07-18\"\n"
     ]
    },
    {
     "data": {
      "text/plain": [
       "'models/mnist'"
      ]
     },
     "execution_count": 13,
     "metadata": {},
     "output_type": "execute_result"
    }
   ],
   "source": [
    "\n",
    "cw = CarliniWagnerL2(model, sess=sess)\n",
    "saver = tf.train.Saver()\n",
    "saver.save(sess, MODEL_PATH)"
   ]
  },
  {
   "cell_type": "code",
   "execution_count": 14,
   "metadata": {
    "scrolled": true
   },
   "outputs": [],
   "source": [
    "adv_inputs = np.array([[instance] * nb_classes for instance in x_test[:source_samples]], dtype=np.float32)\n",
    "adv_inputs = adv_inputs.reshape( (source_samples * nb_classes, img_rows, img_cols, nchannels))\n",
    "\n",
    "one_hot = np.zeros((nb_classes, nb_classes))\n",
    "one_hot[np.arange(nb_classes), np.arange(nb_classes)] = 1\n",
    "adv_ys = np.array([one_hot] * source_samples, dtype=np.float32).reshape((source_samples * nb_classes, nb_classes))\n",
    "yname = \"y_target\"\n",
    "\n",
    "cw_params_batch_size = source_samples * nb_classes\n",
    "cw_params = {'binary_search_steps': 1,\n",
    "             yname: adv_ys,\n",
    "             'max_iterations': attack_iterations,\n",
    "             'learning_rate': CW_LEARNING_RATE,\n",
    "             'batch_size': cw_params_batch_size,\n",
    "             'initial_const': 10}"
   ]
  },
  {
   "cell_type": "code",
   "execution_count": 15,
   "metadata": {},
   "outputs": [
    {
     "name": "stderr",
     "output_type": "stream",
     "text": [
      "[INFO 2019-12-11 20:22:17,635 cleverhans] Constructing new graph for attack CarliniWagnerL2\n"
     ]
    },
    {
     "name": "stdout",
     "output_type": "stream",
     "text": [
      "WARNING:tensorflow:From /Users/zhekunluo/Desktop/294-82/Engineering-and-Debugging-Tools-for-Deep-Neural-Networks-/cleverhans/attacks/carlini_wagner_l2.py:262: The name tf.global_variables is deprecated. Please use tf.compat.v1.global_variables instead.\n",
      "\n",
      "WARNING:tensorflow:From //anaconda2/envs/CS294/lib/python3.6/site-packages/tensorflow_core/python/ops/math_grad.py:1424: where (from tensorflow.python.ops.array_ops) is deprecated and will be removed in a future version.\n",
      "Instructions for updating:\n",
      "Use tf.where in 2.0, which has the same broadcast rule as np.where\n",
      "WARNING:tensorflow:From /Users/zhekunluo/Desktop/294-82/Engineering-and-Debugging-Tools-for-Deep-Neural-Networks-/cleverhans/attacks/carlini_wagner_l2.py:274: The name tf.variables_initializer is deprecated. Please use tf.compat.v1.variables_initializer instead.\n",
      "\n",
      "WARNING:tensorflow:From /Users/zhekunluo/Desktop/294-82/Engineering-and-Debugging-Tools-for-Deep-Neural-Networks-/cleverhans/attacks/carlini_wagner_l2.py:82: py_func (from tensorflow.python.ops.script_ops) is deprecated and will be removed in a future version.\n",
      "Instructions for updating:\n",
      "tf.py_func is deprecated in TF V2. Instead, there are two\n",
      "    options available in V2.\n",
      "    - tf.py_function takes a python function which manipulates tf eager\n",
      "    tensors instead of numpy arrays. It's easy to convert a tf eager tensor to\n",
      "    an ndarray (just call tensor.numpy()) but having access to eager tensors\n",
      "    means `tf.py_function`s can use accelerators such as GPUs as well as\n",
      "    being differentiable using a gradient tape.\n",
      "    - tf.numpy_function maintains the semantics of the deprecated tf.py_func\n",
      "    (it is not differentiable, and manipulates numpy arrays). It drops the\n",
      "    stateful argument making all functions stateful.\n",
      "    \n"
     ]
    },
    {
     "name": "stderr",
     "output_type": "stream",
     "text": [
      "/Users/zhekunluo/Desktop/294-82/Engineering-and-Debugging-Tools-for-Deep-Neural-Networks-/cleverhans/compat.py:22: UserWarning: <function reduce_sum_v1 at 0x144ae8a60> is deprecated. Switch to calling the equivalent function in tensorflow.  This function was originally needed as a compatibility layer for old versions of tensorflow,  but support for those versions has now been dropped.\n",
      "  warnings.warn(str(f) + \" is deprecated. Switch to calling the equivalent function in tensorflow. \"\n",
      "/Users/zhekunluo/Desktop/294-82/Engineering-and-Debugging-Tools-for-Deep-Neural-Networks-/cleverhans/compat.py:22: UserWarning: <function reduce_max_v1 at 0x144af0950> is deprecated. Switch to calling the equivalent function in tensorflow.  This function was originally needed as a compatibility layer for old versions of tensorflow,  but support for those versions has now been dropped.\n",
      "  warnings.warn(str(f) + \" is deprecated. Switch to calling the equivalent function in tensorflow. \"\n"
     ]
    }
   ],
   "source": [
    "adv = cw.generate_np(adv_inputs, **cw_params)\n",
    "\n",
    "x_clean = np.array( [[instance] * nb_classes for instance in x_test[:source_samples]], dtype=np.float32)\n",
    "x_clean = x_clean.reshape((source_samples * nb_classes, img_rows, img_cols, nchannels))\n",
    "\n"
   ]
  },
  {
   "cell_type": "code",
   "execution_count": 18,
   "metadata": {},
   "outputs": [
    {
     "name": "stdout",
     "output_type": "stream",
     "text": [
      "(200,)\n",
      "0.03390149\n"
     ]
    }
   ],
   "source": [
    "diff_reshape = np.abs(adv-x_clean).reshape(-1, img_rows*img_cols*nchannels)\n",
    "diff_sum = np.sum(diff_reshape, axis=1)\n",
    "avg_perturbation = np.mean(diff_sum)\n",
    "print(avg_perturbation)"
   ]
  },
  {
   "cell_type": "code",
   "execution_count": null,
   "metadata": {},
   "outputs": [],
   "source": []
  }
 ],
 "metadata": {
  "kernelspec": {
   "display_name": "Python (294_3.6)",
   "language": "python",
   "name": "294_3.6"
  },
  "language_info": {
   "codemirror_mode": {
    "name": "ipython",
    "version": 3
   },
   "file_extension": ".py",
   "mimetype": "text/x-python",
   "name": "python",
   "nbconvert_exporter": "python",
   "pygments_lexer": "ipython3",
   "version": "3.6.9"
  }
 },
 "nbformat": 4,
 "nbformat_minor": 2
}
